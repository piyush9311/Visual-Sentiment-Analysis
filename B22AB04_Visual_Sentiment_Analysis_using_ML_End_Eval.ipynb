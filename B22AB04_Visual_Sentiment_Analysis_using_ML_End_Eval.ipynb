{
  "nbformat": 4,
  "nbformat_minor": 0,
  "metadata": {
    "colab": {
      "name": "B22AB04 - Visual Sentiment Analysis using ML End Eval.ipynb",
      "provenance": [],
      "collapsed_sections": []
    },
    "kernelspec": {
      "name": "python3",
      "display_name": "Python 3"
    },
    "language_info": {
      "name": "python"
    },
    "accelerator": "GPU"
  },
  "cells": [
    {
      "cell_type": "code",
      "execution_count": null,
      "metadata": {
        "id": "ZTeHJy4RJoNw"
      },
      "outputs": [],
      "source": [
        "import numpy as np\n",
        "import pandas as pd\n",
        "import matplotlib.pyplot as plt\n",
        "import seaborn as sns\n",
        "import warnings\n",
        "warnings.filterwarnings('ignore')"
      ]
    },
    {
      "cell_type": "code",
      "source": [
        "df = pd.read_csv('labels.csv')\n",
        "df.drop(df.columns[df.columns.str.contains('unnamed',case = False)],axis = 1, inplace = True)"
      ],
      "metadata": {
        "id": "dBhoce9uKK3_"
      },
      "execution_count": null,
      "outputs": []
    },
    {
      "cell_type": "code",
      "source": [
        "df[df.isnull().any(axis=1)]"
      ],
      "metadata": {
        "colab": {
          "base_uri": "https://localhost:8080/",
          "height": 641
        },
        "id": "eO0khrWbKhzz",
        "outputId": "380e3c9c-b2a0-45e5-db2d-a60b1e3dbb87"
      },
      "execution_count": null,
      "outputs": [
        {
          "output_type": "execute_result",
          "data": {
            "text/plain": [
              "          image_name                                           text_ocr  \\\n",
              "40      image_41.PNG                                                NaN   \n",
              "83      image_84.png                                                NaN   \n",
              "114    image_115.jpg                                                NaN   \n",
              "119    image_120.jpg  CHALLENGE ACCEPTED! Friend: You can't honestly...   \n",
              "283    image_284.PNG                                                NaN   \n",
              "...              ...                                                ...   \n",
              "6793  image_6794.jpg                                                NaN   \n",
              "6794  image_6795.jpg                                                NaN   \n",
              "6795  image_6796.jpg                                                NaN   \n",
              "6796  image_6797.jpg                                                NaN   \n",
              "6797  image_6798.jpg                                                NaN   \n",
              "\n",
              "                                         text_corrected      humour  \\\n",
              "40      Me: Has seen every Marvel movie before Endgame:  very_funny   \n",
              "83    X-MEN VS AVENGERS MOVIE? AvengersMeme RUSH  .....  very_funny   \n",
              "114   One Does Not Simply Into Mordor Challenge Acce...  very_funny   \n",
              "119                                                 NaN   not_funny   \n",
              "283   Mike Tyson bought a new computer. It has two b...       funny   \n",
              "...                                                 ...         ...   \n",
              "6793  VOTE FOR ME AS PRESIDENT BECAUSE NOW APPARENTL...   not_funny   \n",
              "6794  Marco  stop trying to confuse the people with ...   not_funny   \n",
              "6795  EVERYTHING I FOUGHT FOR occupy Democracy HE WA...       funny   \n",
              "6796  TRUMMEMES.NET WON'T SHAKE HANDS BECAUSE HIS HA...   hilarious   \n",
              "6797  YOU HAVE ENTERED ANOTHER DIMENSION TRUMPMEMES.NET   not_funny   \n",
              "\n",
              "              sarcasm       offensive      motivational overall_sentiment  \n",
              "40    twisted_meaning          slight      motivational          positive  \n",
              "83            general   not_offensive  not_motivational     very_positive  \n",
              "114           general   not_offensive  not_motivational     very_positive  \n",
              "119           general   not_offensive  not_motivational          positive  \n",
              "283     not_sarcastic   not_offensive  not_motivational          positive  \n",
              "...               ...             ...               ...               ...  \n",
              "6793  twisted_meaning          slight      motivational           neutral  \n",
              "6794    not_sarcastic  very_offensive  not_motivational     very_positive  \n",
              "6795  twisted_meaning  very_offensive      motivational     very_negative  \n",
              "6796  twisted_meaning          slight  not_motivational     very_positive  \n",
              "6797  twisted_meaning   not_offensive  not_motivational          positive  \n",
              "\n",
              "[162 rows x 8 columns]"
            ],
            "text/html": [
              "\n",
              "  <div id=\"df-fb791bbc-5287-41c8-853d-cc06f5b3e18a\">\n",
              "    <div class=\"colab-df-container\">\n",
              "      <div>\n",
              "<style scoped>\n",
              "    .dataframe tbody tr th:only-of-type {\n",
              "        vertical-align: middle;\n",
              "    }\n",
              "\n",
              "    .dataframe tbody tr th {\n",
              "        vertical-align: top;\n",
              "    }\n",
              "\n",
              "    .dataframe thead th {\n",
              "        text-align: right;\n",
              "    }\n",
              "</style>\n",
              "<table border=\"1\" class=\"dataframe\">\n",
              "  <thead>\n",
              "    <tr style=\"text-align: right;\">\n",
              "      <th></th>\n",
              "      <th>image_name</th>\n",
              "      <th>text_ocr</th>\n",
              "      <th>text_corrected</th>\n",
              "      <th>humour</th>\n",
              "      <th>sarcasm</th>\n",
              "      <th>offensive</th>\n",
              "      <th>motivational</th>\n",
              "      <th>overall_sentiment</th>\n",
              "    </tr>\n",
              "  </thead>\n",
              "  <tbody>\n",
              "    <tr>\n",
              "      <th>40</th>\n",
              "      <td>image_41.PNG</td>\n",
              "      <td>NaN</td>\n",
              "      <td>Me: Has seen every Marvel movie before Endgame:</td>\n",
              "      <td>very_funny</td>\n",
              "      <td>twisted_meaning</td>\n",
              "      <td>slight</td>\n",
              "      <td>motivational</td>\n",
              "      <td>positive</td>\n",
              "    </tr>\n",
              "    <tr>\n",
              "      <th>83</th>\n",
              "      <td>image_84.png</td>\n",
              "      <td>NaN</td>\n",
              "      <td>X-MEN VS AVENGERS MOVIE? AvengersMeme RUSH  .....</td>\n",
              "      <td>very_funny</td>\n",
              "      <td>general</td>\n",
              "      <td>not_offensive</td>\n",
              "      <td>not_motivational</td>\n",
              "      <td>very_positive</td>\n",
              "    </tr>\n",
              "    <tr>\n",
              "      <th>114</th>\n",
              "      <td>image_115.jpg</td>\n",
              "      <td>NaN</td>\n",
              "      <td>One Does Not Simply Into Mordor Challenge Acce...</td>\n",
              "      <td>very_funny</td>\n",
              "      <td>general</td>\n",
              "      <td>not_offensive</td>\n",
              "      <td>not_motivational</td>\n",
              "      <td>very_positive</td>\n",
              "    </tr>\n",
              "    <tr>\n",
              "      <th>119</th>\n",
              "      <td>image_120.jpg</td>\n",
              "      <td>CHALLENGE ACCEPTED! Friend: You can't honestly...</td>\n",
              "      <td>NaN</td>\n",
              "      <td>not_funny</td>\n",
              "      <td>general</td>\n",
              "      <td>not_offensive</td>\n",
              "      <td>not_motivational</td>\n",
              "      <td>positive</td>\n",
              "    </tr>\n",
              "    <tr>\n",
              "      <th>283</th>\n",
              "      <td>image_284.PNG</td>\n",
              "      <td>NaN</td>\n",
              "      <td>Mike Tyson bought a new computer. It has two b...</td>\n",
              "      <td>funny</td>\n",
              "      <td>not_sarcastic</td>\n",
              "      <td>not_offensive</td>\n",
              "      <td>not_motivational</td>\n",
              "      <td>positive</td>\n",
              "    </tr>\n",
              "    <tr>\n",
              "      <th>...</th>\n",
              "      <td>...</td>\n",
              "      <td>...</td>\n",
              "      <td>...</td>\n",
              "      <td>...</td>\n",
              "      <td>...</td>\n",
              "      <td>...</td>\n",
              "      <td>...</td>\n",
              "      <td>...</td>\n",
              "    </tr>\n",
              "    <tr>\n",
              "      <th>6793</th>\n",
              "      <td>image_6794.jpg</td>\n",
              "      <td>NaN</td>\n",
              "      <td>VOTE FOR ME AS PRESIDENT BECAUSE NOW APPARENTL...</td>\n",
              "      <td>not_funny</td>\n",
              "      <td>twisted_meaning</td>\n",
              "      <td>slight</td>\n",
              "      <td>motivational</td>\n",
              "      <td>neutral</td>\n",
              "    </tr>\n",
              "    <tr>\n",
              "      <th>6794</th>\n",
              "      <td>image_6795.jpg</td>\n",
              "      <td>NaN</td>\n",
              "      <td>Marco  stop trying to confuse the people with ...</td>\n",
              "      <td>not_funny</td>\n",
              "      <td>not_sarcastic</td>\n",
              "      <td>very_offensive</td>\n",
              "      <td>not_motivational</td>\n",
              "      <td>very_positive</td>\n",
              "    </tr>\n",
              "    <tr>\n",
              "      <th>6795</th>\n",
              "      <td>image_6796.jpg</td>\n",
              "      <td>NaN</td>\n",
              "      <td>EVERYTHING I FOUGHT FOR occupy Democracy HE WA...</td>\n",
              "      <td>funny</td>\n",
              "      <td>twisted_meaning</td>\n",
              "      <td>very_offensive</td>\n",
              "      <td>motivational</td>\n",
              "      <td>very_negative</td>\n",
              "    </tr>\n",
              "    <tr>\n",
              "      <th>6796</th>\n",
              "      <td>image_6797.jpg</td>\n",
              "      <td>NaN</td>\n",
              "      <td>TRUMMEMES.NET WON'T SHAKE HANDS BECAUSE HIS HA...</td>\n",
              "      <td>hilarious</td>\n",
              "      <td>twisted_meaning</td>\n",
              "      <td>slight</td>\n",
              "      <td>not_motivational</td>\n",
              "      <td>very_positive</td>\n",
              "    </tr>\n",
              "    <tr>\n",
              "      <th>6797</th>\n",
              "      <td>image_6798.jpg</td>\n",
              "      <td>NaN</td>\n",
              "      <td>YOU HAVE ENTERED ANOTHER DIMENSION TRUMPMEMES.NET</td>\n",
              "      <td>not_funny</td>\n",
              "      <td>twisted_meaning</td>\n",
              "      <td>not_offensive</td>\n",
              "      <td>not_motivational</td>\n",
              "      <td>positive</td>\n",
              "    </tr>\n",
              "  </tbody>\n",
              "</table>\n",
              "<p>162 rows × 8 columns</p>\n",
              "</div>\n",
              "      <button class=\"colab-df-convert\" onclick=\"convertToInteractive('df-fb791bbc-5287-41c8-853d-cc06f5b3e18a')\"\n",
              "              title=\"Convert this dataframe to an interactive table.\"\n",
              "              style=\"display:none;\">\n",
              "        \n",
              "  <svg xmlns=\"http://www.w3.org/2000/svg\" height=\"24px\"viewBox=\"0 0 24 24\"\n",
              "       width=\"24px\">\n",
              "    <path d=\"M0 0h24v24H0V0z\" fill=\"none\"/>\n",
              "    <path d=\"M18.56 5.44l.94 2.06.94-2.06 2.06-.94-2.06-.94-.94-2.06-.94 2.06-2.06.94zm-11 1L8.5 8.5l.94-2.06 2.06-.94-2.06-.94L8.5 2.5l-.94 2.06-2.06.94zm10 10l.94 2.06.94-2.06 2.06-.94-2.06-.94-.94-2.06-.94 2.06-2.06.94z\"/><path d=\"M17.41 7.96l-1.37-1.37c-.4-.4-.92-.59-1.43-.59-.52 0-1.04.2-1.43.59L10.3 9.45l-7.72 7.72c-.78.78-.78 2.05 0 2.83L4 21.41c.39.39.9.59 1.41.59.51 0 1.02-.2 1.41-.59l7.78-7.78 2.81-2.81c.8-.78.8-2.07 0-2.86zM5.41 20L4 18.59l7.72-7.72 1.47 1.35L5.41 20z\"/>\n",
              "  </svg>\n",
              "      </button>\n",
              "      \n",
              "  <style>\n",
              "    .colab-df-container {\n",
              "      display:flex;\n",
              "      flex-wrap:wrap;\n",
              "      gap: 12px;\n",
              "    }\n",
              "\n",
              "    .colab-df-convert {\n",
              "      background-color: #E8F0FE;\n",
              "      border: none;\n",
              "      border-radius: 50%;\n",
              "      cursor: pointer;\n",
              "      display: none;\n",
              "      fill: #1967D2;\n",
              "      height: 32px;\n",
              "      padding: 0 0 0 0;\n",
              "      width: 32px;\n",
              "    }\n",
              "\n",
              "    .colab-df-convert:hover {\n",
              "      background-color: #E2EBFA;\n",
              "      box-shadow: 0px 1px 2px rgba(60, 64, 67, 0.3), 0px 1px 3px 1px rgba(60, 64, 67, 0.15);\n",
              "      fill: #174EA6;\n",
              "    }\n",
              "\n",
              "    [theme=dark] .colab-df-convert {\n",
              "      background-color: #3B4455;\n",
              "      fill: #D2E3FC;\n",
              "    }\n",
              "\n",
              "    [theme=dark] .colab-df-convert:hover {\n",
              "      background-color: #434B5C;\n",
              "      box-shadow: 0px 1px 3px 1px rgba(0, 0, 0, 0.15);\n",
              "      filter: drop-shadow(0px 1px 2px rgba(0, 0, 0, 0.3));\n",
              "      fill: #FFFFFF;\n",
              "    }\n",
              "  </style>\n",
              "\n",
              "      <script>\n",
              "        const buttonEl =\n",
              "          document.querySelector('#df-fb791bbc-5287-41c8-853d-cc06f5b3e18a button.colab-df-convert');\n",
              "        buttonEl.style.display =\n",
              "          google.colab.kernel.accessAllowed ? 'block' : 'none';\n",
              "\n",
              "        async function convertToInteractive(key) {\n",
              "          const element = document.querySelector('#df-fb791bbc-5287-41c8-853d-cc06f5b3e18a');\n",
              "          const dataTable =\n",
              "            await google.colab.kernel.invokeFunction('convertToInteractive',\n",
              "                                                     [key], {});\n",
              "          if (!dataTable) return;\n",
              "\n",
              "          const docLinkHtml = 'Like what you see? Visit the ' +\n",
              "            '<a target=\"_blank\" href=https://colab.research.google.com/notebooks/data_table.ipynb>data table notebook</a>'\n",
              "            + ' to learn more about interactive tables.';\n",
              "          element.innerHTML = '';\n",
              "          dataTable['output_type'] = 'display_data';\n",
              "          await google.colab.output.renderOutput(dataTable, element);\n",
              "          const docLink = document.createElement('div');\n",
              "          docLink.innerHTML = docLinkHtml;\n",
              "          element.appendChild(docLink);\n",
              "        }\n",
              "      </script>\n",
              "    </div>\n",
              "  </div>\n",
              "  "
            ]
          },
          "metadata": {},
          "execution_count": 7
        }
      ]
    },
    {
      "cell_type": "code",
      "source": [
        "df['overall_sentiment'].value_counts(normalize=True)"
      ],
      "metadata": {
        "colab": {
          "base_uri": "https://localhost:8080/"
        },
        "id": "TbCb1DqDKulD",
        "outputId": "6808cf12-4786-4bb6-aed4-25f5393badfc"
      },
      "execution_count": null,
      "outputs": [
        {
          "output_type": "execute_result",
          "data": {
            "text/plain": [
              "positive         0.447225\n",
              "neutral          0.314788\n",
              "very_positive    0.147740\n",
              "negative         0.068650\n",
              "very_negative    0.021596\n",
              "Name: overall_sentiment, dtype: float64"
            ]
          },
          "metadata": {},
          "execution_count": 8
        }
      ]
    },
    {
      "cell_type": "code",
      "source": [
        "sns.countplot(df['overall_sentiment'],order = df['overall_sentiment'].value_counts(normalize=True).index)"
      ],
      "metadata": {
        "colab": {
          "base_uri": "https://localhost:8080/",
          "height": 298
        },
        "id": "MC9TWowsKum3",
        "outputId": "5be51562-fb8a-4bc2-8cd0-005b6b2f313e"
      },
      "execution_count": null,
      "outputs": [
        {
          "output_type": "execute_result",
          "data": {
            "text/plain": [
              "<matplotlib.axes._subplots.AxesSubplot at 0x7f46ffa57cd0>"
            ]
          },
          "metadata": {},
          "execution_count": 9
        },
        {
          "output_type": "display_data",
          "data": {
            "text/plain": [
              "<Figure size 432x288 with 1 Axes>"
            ],
            "image/png": "[encoded data removed]"
          },
          "metadata": {
            "needs_background": "light"
          }
        }
      ]
    },
    {
      "cell_type": "code",
      "source": [
        "df['sarcasm'].value_counts(normalize=True)"
      ],
      "metadata": {
        "colab": {
          "base_uri": "https://localhost:8080/"
        },
        "id": "UowFCb6oKuqP",
        "outputId": "b460d8a6-df64-4ccd-f023-218e51654c4f"
      },
      "execution_count": null,
      "outputs": [
        {
          "output_type": "execute_result",
          "data": {
            "text/plain": [
              "general            0.501573\n",
              "twisted_meaning    0.221253\n",
              "not_sarcastic      0.220824\n",
              "very_twisted       0.056350\n",
              "Name: sarcasm, dtype: float64"
            ]
          },
          "metadata": {},
          "execution_count": 10
        }
      ]
    },
    {
      "cell_type": "code",
      "source": [
        "sns.countplot(df['sarcasm'],order = df['sarcasm'].value_counts(normalize=True).index)"
      ],
      "metadata": {
        "colab": {
          "base_uri": "https://localhost:8080/",
          "height": 297
        },
        "id": "gX6T0PI6Kusb",
        "outputId": "1d08dfaa-66a6-4df4-d7bb-cdc853f14f64"
      },
      "execution_count": null,
      "outputs": [
        {
          "output_type": "execute_result",
          "data": {
            "text/plain": [
              "<matplotlib.axes._subplots.AxesSubplot at 0x7f46ff9275d0>"
            ]
          },
          "metadata": {},
          "execution_count": 11
        },
        {
          "output_type": "display_data",
          "data": {
            "text/plain": [
              "<Figure size 432x288 with 1 Axes>"
            ],
            "image/png": "[encoded data removed]"
          },
          "metadata": {
            "needs_background": "light"
          }
        }
      ]
    },
    {
      "cell_type": "code",
      "source": [
        "df['humour'].value_counts(normalize=True)"
      ],
      "metadata": {
        "colab": {
          "base_uri": "https://localhost:8080/"
        },
        "id": "nnXYlOxKKuvr",
        "outputId": "a7812a62-86fe-4ff4-9aa7-25be93c093fe"
      },
      "execution_count": null,
      "outputs": [
        {
          "output_type": "execute_result",
          "data": {
            "text/plain": [
              "funny         0.350686\n",
              "very_funny    0.320080\n",
              "not_funny     0.236127\n",
              "hilarious     0.093106\n",
              "Name: humour, dtype: float64"
            ]
          },
          "metadata": {},
          "execution_count": 12
        }
      ]
    },
    {
      "cell_type": "code",
      "source": [
        "sns.countplot(df['humour'],order = df['humour'].value_counts(normalize=True).index)"
      ],
      "metadata": {
        "colab": {
          "base_uri": "https://localhost:8080/",
          "height": 297
        },
        "id": "3g2AcZNjKuyJ",
        "outputId": "50ebd560-df45-4077-fc38-e9118585018d"
      },
      "execution_count": null,
      "outputs": [
        {
          "output_type": "execute_result",
          "data": {
            "text/plain": [
              "<matplotlib.axes._subplots.AxesSubplot at 0x7f46ff473e10>"
            ]
          },
          "metadata": {},
          "execution_count": 13
        },
        {
          "output_type": "display_data",
          "data": {
            "text/plain": [
              "<Figure size 432x288 with 1 Axes>"
            ],
            "image/png": "[encoded data removed]"
          },
          "metadata": {
            "needs_background": "light"
          }
        }
      ]
    },
    {
      "cell_type": "code",
      "source": [
        "df['offensive'].value_counts(normalize=True)"
      ],
      "metadata": {
        "colab": {
          "base_uri": "https://localhost:8080/"
        },
        "id": "5OqvY3chKu0t",
        "outputId": "e276b77c-6fb0-46c1-a95b-8d9a34bebd37"
      },
      "execution_count": null,
      "outputs": [
        {
          "output_type": "execute_result",
          "data": {
            "text/plain": [
              "not_offensive        0.388015\n",
              "slight               0.370709\n",
              "very_offensive       0.209668\n",
              "hateful_offensive    0.031608\n",
              "Name: offensive, dtype: float64"
            ]
          },
          "metadata": {},
          "execution_count": 14
        }
      ]
    },
    {
      "cell_type": "code",
      "source": [
        "sns.countplot(df['offensive'],order = df['offensive'].value_counts(normalize=True).index)"
      ],
      "metadata": {
        "colab": {
          "base_uri": "https://localhost:8080/",
          "height": 297
        },
        "id": "DsF8A59yKu3o",
        "outputId": "55437dbd-f393-43f3-d4ad-e9305e2d67b7"
      },
      "execution_count": null,
      "outputs": [
        {
          "output_type": "execute_result",
          "data": {
            "text/plain": [
              "<matplotlib.axes._subplots.AxesSubplot at 0x7f46ff479950>"
            ]
          },
          "metadata": {},
          "execution_count": 15
        },
        {
          "output_type": "display_data",
          "data": {
            "text/plain": [
              "<Figure size 432x288 with 1 Axes>"
            ],
            "image/png": "[encoded data removed]"
          },
          "metadata": {
            "needs_background": "light"
          }
        }
      ]
    },
    {
      "cell_type": "code",
      "source": [
        "df['motivational'].value_counts(normalize=True)"
      ],
      "metadata": {
        "colab": {
          "base_uri": "https://localhost:8080/"
        },
        "id": "fEg5i9BpKu69",
        "outputId": "5871b3a7-9f90-4d4f-80e0-2fdb34daea4a"
      },
      "execution_count": null,
      "outputs": [
        {
          "output_type": "execute_result",
          "data": {
            "text/plain": [
              "not_motivational    0.647168\n",
              "motivational        0.352832\n",
              "Name: motivational, dtype: float64"
            ]
          },
          "metadata": {},
          "execution_count": 16
        }
      ]
    },
    {
      "cell_type": "code",
      "source": [
        "sns.countplot(df['motivational'],order = df['motivational'].value_counts(normalize=True).index)"
      ],
      "metadata": {
        "colab": {
          "base_uri": "https://localhost:8080/",
          "height": 297
        },
        "id": "s_LZ9fLvKu9F",
        "outputId": "4b03fa70-365d-4b0c-cc9c-3eed7a2f9a5c"
      },
      "execution_count": null,
      "outputs": [
        {
          "output_type": "execute_result",
          "data": {
            "text/plain": [
              "<matplotlib.axes._subplots.AxesSubplot at 0x7f46ff3b0a90>"
            ]
          },
          "metadata": {},
          "execution_count": 17
        },
        {
          "output_type": "display_data",
          "data": {
            "text/plain": [
              "<Figure size 432x288 with 1 Axes>"
            ],
            "image/png": "[encoded data removed]"
          },
          "metadata": {
            "needs_background": "light"
          }
        }
      ]
    },
    {
      "cell_type": "code",
      "source": [
        "df = df.replace({'humour': {'not_funny': 0, 'funny': 1, 'very_funny': 1, 'hilarious':1},\n",
        "        'sarcasm': {'not_sarcastic': 0, 'general': 1, 'twisted_meaning': 0, 'very_twisted': 0},\n",
        "             'offensive': {'not_offensive': 0, 'slight': 2, 'very_offensive': 2, 'hateful_offensive': 2},\n",
        "            'motivational': {'not_motivational': 0, 'motivational': 1}})"
      ],
      "metadata": {
        "id": "QrsaZzQPKu--"
      },
      "execution_count": null,
      "outputs": []
    },
    {
      "cell_type": "code",
      "source": [
        "df.head()\n"
      ],
      "metadata": {
        "colab": {
          "base_uri": "https://localhost:8080/",
          "height": 302
        },
        "id": "EGjw53xaKvA8",
        "outputId": "7e3b96fb-d661-4fb2-9414-d47267d961e8"
      },
      "execution_count": null,
      "outputs": [
        {
          "output_type": "execute_result",
          "data": {
            "text/plain": [
              "     image_name                                           text_ocr  \\\n",
              "0   image_1.jpg  LOOK THERE MY FRIEND LIGHTYEAR NOW ALL SOHALIK...   \n",
              "1  image_2.jpeg  The best of #10 YearChallenge! Completed in le...   \n",
              "2   image_3.JPG  Sam Thorne @Strippin ( Follow Follow Saw every...   \n",
              "3   image_4.png              10 Year Challenge - Sweet Dee Edition   \n",
              "4   image_5.png  10 YEAR CHALLENGE WITH NO FILTER 47 Hilarious ...   \n",
              "\n",
              "                                      text_corrected  humour  sarcasm  \\\n",
              "0  LOOK THERE MY FRIEND LIGHTYEAR NOW ALL SOHALIK...       1        1   \n",
              "1  The best of #10 YearChallenge! Completed in le...       0        1   \n",
              "2  Sam Thorne @Strippin ( Follow Follow Saw every...       1        0   \n",
              "3              10 Year Challenge - Sweet Dee Edition       1        0   \n",
              "4  10 YEAR CHALLENGE WITH NO FILTER 47 Hilarious ...       1        0   \n",
              "\n",
              "   offensive  motivational overall_sentiment  \n",
              "0          0             0     very_positive  \n",
              "1          0             1     very_positive  \n",
              "2          0             0          positive  \n",
              "3          2             1          positive  \n",
              "4          2             0           neutral  "
            ],
            "text/html": [
              "\n",
              "  <div id=\"df-5274316f-a44f-44fc-a7ee-ede38f122e79\">\n",
              "    <div class=\"colab-df-container\">\n",
              "      <div>\n",
              "<style scoped>\n",
              "    .dataframe tbody tr th:only-of-type {\n",
              "        vertical-align: middle;\n",
              "    }\n",
              "\n",
              "    .dataframe tbody tr th {\n",
              "        vertical-align: top;\n",
              "    }\n",
              "\n",
              "    .dataframe thead th {\n",
              "        text-align: right;\n",
              "    }\n",
              "</style>\n",
              "<table border=\"1\" class=\"dataframe\">\n",
              "  <thead>\n",
              "    <tr style=\"text-align: right;\">\n",
              "      <th></th>\n",
              "      <th>image_name</th>\n",
              "      <th>text_ocr</th>\n",
              "      <th>text_corrected</th>\n",
              "      <th>humour</th>\n",
              "      <th>sarcasm</th>\n",
              "      <th>offensive</th>\n",
              "      <th>motivational</th>\n",
              "      <th>overall_sentiment</th>\n",
              "    </tr>\n",
              "  </thead>\n",
              "  <tbody>\n",
              "    <tr>\n",
              "      <th>0</th>\n",
              "      <td>image_1.jpg</td>\n",
              "      <td>LOOK THERE MY FRIEND LIGHTYEAR NOW ALL SOHALIK...</td>\n",
              "      <td>LOOK THERE MY FRIEND LIGHTYEAR NOW ALL SOHALIK...</td>\n",
              "      <td>1</td>\n",
              "      <td>1</td>\n",
              "      <td>0</td>\n",
              "      <td>0</td>\n",
              "      <td>very_positive</td>\n",
              "    </tr>\n",
              "    <tr>\n",
              "      <th>1</th>\n",
              "      <td>image_2.jpeg</td>\n",
              "      <td>The best of #10 YearChallenge! Completed in le...</td>\n",
              "      <td>The best of #10 YearChallenge! Completed in le...</td>\n",
              "      <td>0</td>\n",
              "      <td>1</td>\n",
              "      <td>0</td>\n",
              "      <td>1</td>\n",
              "      <td>very_positive</td>\n",
              "    </tr>\n",
              "    <tr>\n",
              "      <th>2</th>\n",
              "      <td>image_3.JPG</td>\n",
              "      <td>Sam Thorne @Strippin ( Follow Follow Saw every...</td>\n",
              "      <td>Sam Thorne @Strippin ( Follow Follow Saw every...</td>\n",
              "      <td>1</td>\n",
              "      <td>0</td>\n",
              "      <td>0</td>\n",
              "      <td>0</td>\n",
              "      <td>positive</td>\n",
              "    </tr>\n",
              "    <tr>\n",
              "      <th>3</th>\n",
              "      <td>image_4.png</td>\n",
              "      <td>10 Year Challenge - Sweet Dee Edition</td>\n",
              "      <td>10 Year Challenge - Sweet Dee Edition</td>\n",
              "      <td>1</td>\n",
              "      <td>0</td>\n",
              "      <td>2</td>\n",
              "      <td>1</td>\n",
              "      <td>positive</td>\n",
              "    </tr>\n",
              "    <tr>\n",
              "      <th>4</th>\n",
              "      <td>image_5.png</td>\n",
              "      <td>10 YEAR CHALLENGE WITH NO FILTER 47 Hilarious ...</td>\n",
              "      <td>10 YEAR CHALLENGE WITH NO FILTER 47 Hilarious ...</td>\n",
              "      <td>1</td>\n",
              "      <td>0</td>\n",
              "      <td>2</td>\n",
              "      <td>0</td>\n",
              "      <td>neutral</td>\n",
              "    </tr>\n",
              "  </tbody>\n",
              "</table>\n",
              "</div>\n",
              "      <button class=\"colab-df-convert\" onclick=\"convertToInteractive('df-5274316f-a44f-44fc-a7ee-ede38f122e79')\"\n",
              "              title=\"Convert this dataframe to an interactive table.\"\n",
              "              style=\"display:none;\">\n",
              "        \n",
              "  <svg xmlns=\"http://www.w3.org/2000/svg\" height=\"24px\"viewBox=\"0 0 24 24\"\n",
              "       width=\"24px\">\n",
              "    <path d=\"M0 0h24v24H0V0z\" fill=\"none\"/>\n",
              "    <path d=\"M18.56 5.44l.94 2.06.94-2.06 2.06-.94-2.06-.94-.94-2.06-.94 2.06-2.06.94zm-11 1L8.5 8.5l.94-2.06 2.06-.94-2.06-.94L8.5 2.5l-.94 2.06-2.06.94zm10 10l.94 2.06.94-2.06 2.06-.94-2.06-.94-.94-2.06-.94 2.06-2.06.94z\"/><path d=\"M17.41 7.96l-1.37-1.37c-.4-.4-.92-.59-1.43-.59-.52 0-1.04.2-1.43.59L10.3 9.45l-7.72 7.72c-.78.78-.78 2.05 0 2.83L4 21.41c.39.39.9.59 1.41.59.51 0 1.02-.2 1.41-.59l7.78-7.78 2.81-2.81c.8-.78.8-2.07 0-2.86zM5.41 20L4 18.59l7.72-7.72 1.47 1.35L5.41 20z\"/>\n",
              "  </svg>\n",
              "      </button>\n",
              "      \n",
              "  <style>\n",
              "    .colab-df-container {\n",
              "      display:flex;\n",
              "      flex-wrap:wrap;\n",
              "      gap: 12px;\n",
              "    }\n",
              "\n",
              "    .colab-df-convert {\n",
              "      background-color: #E8F0FE;\n",
              "      border: none;\n",
              "      border-radius: 50%;\n",
              "      cursor: pointer;\n",
              "      display: none;\n",
              "      fill: #1967D2;\n",
              "      height: 32px;\n",
              "      padding: 0 0 0 0;\n",
              "      width: 32px;\n",
              "    }\n",
              "\n",
              "    .colab-df-convert:hover {\n",
              "      background-color: #E2EBFA;\n",
              "      box-shadow: 0px 1px 2px rgba(60, 64, 67, 0.3), 0px 1px 3px 1px rgba(60, 64, 67, 0.15);\n",
              "      fill: #174EA6;\n",
              "    }\n",
              "\n",
              "    [theme=dark] .colab-df-convert {\n",
              "      background-color: #3B4455;\n",
              "      fill: #D2E3FC;\n",
              "    }\n",
              "\n",
              "    [theme=dark] .colab-df-convert:hover {\n",
              "      background-color: #434B5C;\n",
              "      box-shadow: 0px 1px 3px 1px rgba(0, 0, 0, 0.15);\n",
              "      filter: drop-shadow(0px 1px 2px rgba(0, 0, 0, 0.3));\n",
              "      fill: #FFFFFF;\n",
              "    }\n",
              "  </style>\n",
              "\n",
              "      <script>\n",
              "        const buttonEl =\n",
              "          document.querySelector('#df-5274316f-a44f-44fc-a7ee-ede38f122e79 button.colab-df-convert');\n",
              "        buttonEl.style.display =\n",
              "          google.colab.kernel.accessAllowed ? 'block' : 'none';\n",
              "\n",
              "        async function convertToInteractive(key) {\n",
              "          const element = document.querySelector('#df-5274316f-a44f-44fc-a7ee-ede38f122e79');\n",
              "          const dataTable =\n",
              "            await google.colab.kernel.invokeFunction('convertToInteractive',\n",
              "                                                     [key], {});\n",
              "          if (!dataTable) return;\n",
              "\n",
              "          const docLinkHtml = 'Like what you see? Visit the ' +\n",
              "            '<a target=\"_blank\" href=https://colab.research.google.com/notebooks/data_table.ipynb>data table notebook</a>'\n",
              "            + ' to learn more about interactive tables.';\n",
              "          element.innerHTML = '';\n",
              "          dataTable['output_type'] = 'display_data';\n",
              "          await google.colab.output.renderOutput(dataTable, element);\n",
              "          const docLink = document.createElement('div');\n",
              "          docLink.innerHTML = docLinkHtml;\n",
              "          element.appendChild(docLink);\n",
              "        }\n",
              "      </script>\n",
              "    </div>\n",
              "  </div>\n",
              "  "
            ]
          },
          "metadata": {},
          "execution_count": 19
        }
      ]
    },
    {
      "cell_type": "code",
      "source": [
        "df1 = df[['text_corrected', 'overall_sentiment']]"
      ],
      "metadata": {
        "id": "e6KRZUCwLdo7"
      },
      "execution_count": null,
      "outputs": []
    },
    {
      "cell_type": "code",
      "source": [
        "df1.head()"
      ],
      "metadata": {
        "colab": {
          "base_uri": "https://localhost:8080/",
          "height": 206
        },
        "id": "EFIJT8JCLhJ6",
        "outputId": "a22db406-c713-4576-ed9f-6b50a64946e8"
      },
      "execution_count": null,
      "outputs": [
        {
          "output_type": "execute_result",
          "data": {
            "text/plain": [
              "                                      text_corrected overall_sentiment\n",
              "0  LOOK THERE MY FRIEND LIGHTYEAR NOW ALL SOHALIK...     very_positive\n",
              "1  The best of #10 YearChallenge! Completed in le...     very_positive\n",
              "2  Sam Thorne @Strippin ( Follow Follow Saw every...          positive\n",
              "3              10 Year Challenge - Sweet Dee Edition          positive\n",
              "4  10 YEAR CHALLENGE WITH NO FILTER 47 Hilarious ...           neutral"
            ],
            "text/html": [
              "\n",
              "  <div id=\"df-22d4e3f4-96e3-4218-a5d8-8c3e372ea4c1\">\n",
              "    <div class=\"colab-df-container\">\n",
              "      <div>\n",
              "<style scoped>\n",
              "    .dataframe tbody tr th:only-of-type {\n",
              "        vertical-align: middle;\n",
              "    }\n",
              "\n",
              "    .dataframe tbody tr th {\n",
              "        vertical-align: top;\n",
              "    }\n",
              "\n",
              "    .dataframe thead th {\n",
              "        text-align: right;\n",
              "    }\n",
              "</style>\n",
              "<table border=\"1\" class=\"dataframe\">\n",
              "  <thead>\n",
              "    <tr style=\"text-align: right;\">\n",
              "      <th></th>\n",
              "      <th>text_corrected</th>\n",
              "      <th>overall_sentiment</th>\n",
              "    </tr>\n",
              "  </thead>\n",
              "  <tbody>\n",
              "    <tr>\n",
              "      <th>0</th>\n",
              "      <td>LOOK THERE MY FRIEND LIGHTYEAR NOW ALL SOHALIK...</td>\n",
              "      <td>very_positive</td>\n",
              "    </tr>\n",
              "    <tr>\n",
              "      <th>1</th>\n",
              "      <td>The best of #10 YearChallenge! Completed in le...</td>\n",
              "      <td>very_positive</td>\n",
              "    </tr>\n",
              "    <tr>\n",
              "      <th>2</th>\n",
              "      <td>Sam Thorne @Strippin ( Follow Follow Saw every...</td>\n",
              "      <td>positive</td>\n",
              "    </tr>\n",
              "    <tr>\n",
              "      <th>3</th>\n",
              "      <td>10 Year Challenge - Sweet Dee Edition</td>\n",
              "      <td>positive</td>\n",
              "    </tr>\n",
              "    <tr>\n",
              "      <th>4</th>\n",
              "      <td>10 YEAR CHALLENGE WITH NO FILTER 47 Hilarious ...</td>\n",
              "      <td>neutral</td>\n",
              "    </tr>\n",
              "  </tbody>\n",
              "</table>\n",
              "</div>\n",
              "      <button class=\"colab-df-convert\" onclick=\"convertToInteractive('df-22d4e3f4-96e3-4218-a5d8-8c3e372ea4c1')\"\n",
              "              title=\"Convert this dataframe to an interactive table.\"\n",
              "              style=\"display:none;\">\n",
              "        \n",
              "  <svg xmlns=\"http://www.w3.org/2000/svg\" height=\"24px\"viewBox=\"0 0 24 24\"\n",
              "       width=\"24px\">\n",
              "    <path d=\"M0 0h24v24H0V0z\" fill=\"none\"/>\n",
              "    <path d=\"M18.56 5.44l.94 2.06.94-2.06 2.06-.94-2.06-.94-.94-2.06-.94 2.06-2.06.94zm-11 1L8.5 8.5l.94-2.06 2.06-.94-2.06-.94L8.5 2.5l-.94 2.06-2.06.94zm10 10l.94 2.06.94-2.06 2.06-.94-2.06-.94-.94-2.06-.94 2.06-2.06.94z\"/><path d=\"M17.41 7.96l-1.37-1.37c-.4-.4-.92-.59-1.43-.59-.52 0-1.04.2-1.43.59L10.3 9.45l-7.72 7.72c-.78.78-.78 2.05 0 2.83L4 21.41c.39.39.9.59 1.41.59.51 0 1.02-.2 1.41-.59l7.78-7.78 2.81-2.81c.8-.78.8-2.07 0-2.86zM5.41 20L4 18.59l7.72-7.72 1.47 1.35L5.41 20z\"/>\n",
              "  </svg>\n",
              "      </button>\n",
              "      \n",
              "  <style>\n",
              "    .colab-df-container {\n",
              "      display:flex;\n",
              "      flex-wrap:wrap;\n",
              "      gap: 12px;\n",
              "    }\n",
              "\n",
              "    .colab-df-convert {\n",
              "      background-color: #E8F0FE;\n",
              "      border: none;\n",
              "      border-radius: 50%;\n",
              "      cursor: pointer;\n",
              "      display: none;\n",
              "      fill: #1967D2;\n",
              "      height: 32px;\n",
              "      padding: 0 0 0 0;\n",
              "      width: 32px;\n",
              "    }\n",
              "\n",
              "    .colab-df-convert:hover {\n",
              "      background-color: #E2EBFA;\n",
              "      box-shadow: 0px 1px 2px rgba(60, 64, 67, 0.3), 0px 1px 3px 1px rgba(60, 64, 67, 0.15);\n",
              "      fill: #174EA6;\n",
              "    }\n",
              "\n",
              "    [theme=dark] .colab-df-convert {\n",
              "      background-color: #3B4455;\n",
              "      fill: #D2E3FC;\n",
              "    }\n",
              "\n",
              "    [theme=dark] .colab-df-convert:hover {\n",
              "      background-color: #434B5C;\n",
              "      box-shadow: 0px 1px 3px 1px rgba(0, 0, 0, 0.15);\n",
              "      filter: drop-shadow(0px 1px 2px rgba(0, 0, 0, 0.3));\n",
              "      fill: #FFFFFF;\n",
              "    }\n",
              "  </style>\n",
              "\n",
              "      <script>\n",
              "        const buttonEl =\n",
              "          document.querySelector('#df-22d4e3f4-96e3-4218-a5d8-8c3e372ea4c1 button.colab-df-convert');\n",
              "        buttonEl.style.display =\n",
              "          google.colab.kernel.accessAllowed ? 'block' : 'none';\n",
              "\n",
              "        async function convertToInteractive(key) {\n",
              "          const element = document.querySelector('#df-22d4e3f4-96e3-4218-a5d8-8c3e372ea4c1');\n",
              "          const dataTable =\n",
              "            await google.colab.kernel.invokeFunction('convertToInteractive',\n",
              "                                                     [key], {});\n",
              "          if (!dataTable) return;\n",
              "\n",
              "          const docLinkHtml = 'Like what you see? Visit the ' +\n",
              "            '<a target=\"_blank\" href=https://colab.research.google.com/notebooks/data_table.ipynb>data table notebook</a>'\n",
              "            + ' to learn more about interactive tables.';\n",
              "          element.innerHTML = '';\n",
              "          dataTable['output_type'] = 'display_data';\n",
              "          await google.colab.output.renderOutput(dataTable, element);\n",
              "          const docLink = document.createElement('div');\n",
              "          docLink.innerHTML = docLinkHtml;\n",
              "          element.appendChild(docLink);\n",
              "        }\n",
              "      </script>\n",
              "    </div>\n",
              "  </div>\n",
              "  "
            ]
          },
          "metadata": {},
          "execution_count": 21
        }
      ]
    },
    {
      "cell_type": "code",
      "source": [
        "df1.info()"
      ],
      "metadata": {
        "colab": {
          "base_uri": "https://localhost:8080/"
        },
        "id": "24cE8z83Li3n",
        "outputId": "31a6a26e-f009-415e-a562-a51e3ad112de"
      },
      "execution_count": null,
      "outputs": [
        {
          "output_type": "stream",
          "name": "stdout",
          "text": [
            "<class 'pandas.core.frame.DataFrame'>\n",
            "RangeIndex: 6992 entries, 0 to 6991\n",
            "Data columns (total 2 columns):\n",
            " #   Column             Non-Null Count  Dtype \n",
            "---  ------             --------------  ----- \n",
            " 0   text_corrected     6987 non-null   object\n",
            " 1   overall_sentiment  6992 non-null   object\n",
            "dtypes: object(2)\n",
            "memory usage: 109.4+ KB\n"
          ]
        }
      ]
    },
    {
      "cell_type": "code",
      "source": [
        "df1 = df1.dropna(how = 'any', axis=0) "
      ],
      "metadata": {
        "id": "m7GDuBeRLkrx"
      },
      "execution_count": null,
      "outputs": []
    },
    {
      "cell_type": "code",
      "source": [
        "df1.info()"
      ],
      "metadata": {
        "colab": {
          "base_uri": "https://localhost:8080/"
        },
        "id": "ye17JO6YLt_h",
        "outputId": "6efdde1d-8ea1-4995-bb7e-70ff9d67daac"
      },
      "execution_count": null,
      "outputs": [
        {
          "output_type": "stream",
          "name": "stdout",
          "text": [
            "<class 'pandas.core.frame.DataFrame'>\n",
            "Int64Index: 6987 entries, 0 to 6991\n",
            "Data columns (total 2 columns):\n",
            " #   Column             Non-Null Count  Dtype \n",
            "---  ------             --------------  ----- \n",
            " 0   text_corrected     6987 non-null   object\n",
            " 1   overall_sentiment  6987 non-null   object\n",
            "dtypes: object(2)\n",
            "memory usage: 163.8+ KB\n"
          ]
        }
      ]
    },
    {
      "cell_type": "code",
      "source": [
        "sent_list = ['very_positive', 'positive', 'neutral', 'negative', 'very_negative']\n",
        "df1 = df1[df1['overall_sentiment'].isin(sent_list)]\n",
        "df1.head()"
      ],
      "metadata": {
        "colab": {
          "base_uri": "https://localhost:8080/",
          "height": 206
        },
        "id": "Dy0g4ONlLuB6",
        "outputId": "32736bd7-b372-4989-d107-fba2eacdf2ad"
      },
      "execution_count": null,
      "outputs": [
        {
          "output_type": "execute_result",
          "data": {
            "text/plain": [
              "                                      text_corrected overall_sentiment\n",
              "0  LOOK THERE MY FRIEND LIGHTYEAR NOW ALL SOHALIK...     very_positive\n",
              "1  The best of #10 YearChallenge! Completed in le...     very_positive\n",
              "2  Sam Thorne @Strippin ( Follow Follow Saw every...          positive\n",
              "3              10 Year Challenge - Sweet Dee Edition          positive\n",
              "4  10 YEAR CHALLENGE WITH NO FILTER 47 Hilarious ...           neutral"
            ],
            "text/html": [
              "\n",
              "  <div id=\"df-d2f42045-ba56-41bf-b56b-d3816fa0227e\">\n",
              "    <div class=\"colab-df-container\">\n",
              "      <div>\n",
              "<style scoped>\n",
              "    .dataframe tbody tr th:only-of-type {\n",
              "        vertical-align: middle;\n",
              "    }\n",
              "\n",
              "    .dataframe tbody tr th {\n",
              "        vertical-align: top;\n",
              "    }\n",
              "\n",
              "    .dataframe thead th {\n",
              "        text-align: right;\n",
              "    }\n",
              "</style>\n",
              "<table border=\"1\" class=\"dataframe\">\n",
              "  <thead>\n",
              "    <tr style=\"text-align: right;\">\n",
              "      <th></th>\n",
              "      <th>text_corrected</th>\n",
              "      <th>overall_sentiment</th>\n",
              "    </tr>\n",
              "  </thead>\n",
              "  <tbody>\n",
              "    <tr>\n",
              "      <th>0</th>\n",
              "      <td>LOOK THERE MY FRIEND LIGHTYEAR NOW ALL SOHALIK...</td>\n",
              "      <td>very_positive</td>\n",
              "    </tr>\n",
              "    <tr>\n",
              "      <th>1</th>\n",
              "      <td>The best of #10 YearChallenge! Completed in le...</td>\n",
              "      <td>very_positive</td>\n",
              "    </tr>\n",
              "    <tr>\n",
              "      <th>2</th>\n",
              "      <td>Sam Thorne @Strippin ( Follow Follow Saw every...</td>\n",
              "      <td>positive</td>\n",
              "    </tr>\n",
              "    <tr>\n",
              "      <th>3</th>\n",
              "      <td>10 Year Challenge - Sweet Dee Edition</td>\n",
              "      <td>positive</td>\n",
              "    </tr>\n",
              "    <tr>\n",
              "      <th>4</th>\n",
              "      <td>10 YEAR CHALLENGE WITH NO FILTER 47 Hilarious ...</td>\n",
              "      <td>neutral</td>\n",
              "    </tr>\n",
              "  </tbody>\n",
              "</table>\n",
              "</div>\n",
              "      <button class=\"colab-df-convert\" onclick=\"convertToInteractive('df-d2f42045-ba56-41bf-b56b-d3816fa0227e')\"\n",
              "              title=\"Convert this dataframe to an interactive table.\"\n",
              "              style=\"display:none;\">\n",
              "        \n",
              "  <svg xmlns=\"http://www.w3.org/2000/svg\" height=\"24px\"viewBox=\"0 0 24 24\"\n",
              "       width=\"24px\">\n",
              "    <path d=\"M0 0h24v24H0V0z\" fill=\"none\"/>\n",
              "    <path d=\"M18.56 5.44l.94 2.06.94-2.06 2.06-.94-2.06-.94-.94-2.06-.94 2.06-2.06.94zm-11 1L8.5 8.5l.94-2.06 2.06-.94-2.06-.94L8.5 2.5l-.94 2.06-2.06.94zm10 10l.94 2.06.94-2.06 2.06-.94-2.06-.94-.94-2.06-.94 2.06-2.06.94z\"/><path d=\"M17.41 7.96l-1.37-1.37c-.4-.4-.92-.59-1.43-.59-.52 0-1.04.2-1.43.59L10.3 9.45l-7.72 7.72c-.78.78-.78 2.05 0 2.83L4 21.41c.39.39.9.59 1.41.59.51 0 1.02-.2 1.41-.59l7.78-7.78 2.81-2.81c.8-.78.8-2.07 0-2.86zM5.41 20L4 18.59l7.72-7.72 1.47 1.35L5.41 20z\"/>\n",
              "  </svg>\n",
              "      </button>\n",
              "      \n",
              "  <style>\n",
              "    .colab-df-container {\n",
              "      display:flex;\n",
              "      flex-wrap:wrap;\n",
              "      gap: 12px;\n",
              "    }\n",
              "\n",
              "    .colab-df-convert {\n",
              "      background-color: #E8F0FE;\n",
              "      border: none;\n",
              "      border-radius: 50%;\n",
              "      cursor: pointer;\n",
              "      display: none;\n",
              "      fill: #1967D2;\n",
              "      height: 32px;\n",
              "      padding: 0 0 0 0;\n",
              "      width: 32px;\n",
              "    }\n",
              "\n",
              "    .colab-df-convert:hover {\n",
              "      background-color: #E2EBFA;\n",
              "      box-shadow: 0px 1px 2px rgba(60, 64, 67, 0.3), 0px 1px 3px 1px rgba(60, 64, 67, 0.15);\n",
              "      fill: #174EA6;\n",
              "    }\n",
              "\n",
              "    [theme=dark] .colab-df-convert {\n",
              "      background-color: #3B4455;\n",
              "      fill: #D2E3FC;\n",
              "    }\n",
              "\n",
              "    [theme=dark] .colab-df-convert:hover {\n",
              "      background-color: #434B5C;\n",
              "      box-shadow: 0px 1px 3px 1px rgba(0, 0, 0, 0.15);\n",
              "      filter: drop-shadow(0px 1px 2px rgba(0, 0, 0, 0.3));\n",
              "      fill: #FFFFFF;\n",
              "    }\n",
              "  </style>\n",
              "\n",
              "      <script>\n",
              "        const buttonEl =\n",
              "          document.querySelector('#df-d2f42045-ba56-41bf-b56b-d3816fa0227e button.colab-df-convert');\n",
              "        buttonEl.style.display =\n",
              "          google.colab.kernel.accessAllowed ? 'block' : 'none';\n",
              "\n",
              "        async function convertToInteractive(key) {\n",
              "          const element = document.querySelector('#df-d2f42045-ba56-41bf-b56b-d3816fa0227e');\n",
              "          const dataTable =\n",
              "            await google.colab.kernel.invokeFunction('convertToInteractive',\n",
              "                                                     [key], {});\n",
              "          if (!dataTable) return;\n",
              "\n",
              "          const docLinkHtml = 'Like what you see? Visit the ' +\n",
              "            '<a target=\"_blank\" href=https://colab.research.google.com/notebooks/data_table.ipynb>data table notebook</a>'\n",
              "            + ' to learn more about interactive tables.';\n",
              "          element.innerHTML = '';\n",
              "          dataTable['output_type'] = 'display_data';\n",
              "          await google.colab.output.renderOutput(dataTable, element);\n",
              "          const docLink = document.createElement('div');\n",
              "          docLink.innerHTML = docLinkHtml;\n",
              "          element.appendChild(docLink);\n",
              "        }\n",
              "      </script>\n",
              "    </div>\n",
              "  </div>\n",
              "  "
            ]
          },
          "metadata": {},
          "execution_count": 25
        }
      ]
    },
    {
      "cell_type": "code",
      "source": [
        "codes = df1.overall_sentiment.astype('category').cat.codes\n",
        "df1['sentiment_int'] = codes\n",
        "codes.unique()"
      ],
      "metadata": {
        "colab": {
          "base_uri": "https://localhost:8080/"
        },
        "id": "DCtw8s52LuE0",
        "outputId": "d1c97d9f-edf2-4d9e-fe7d-1078d0c09575"
      },
      "execution_count": null,
      "outputs": [
        {
          "output_type": "execute_result",
          "data": {
            "text/plain": [
              "array([4, 2, 1, 0, 3], dtype=int8)"
            ]
          },
          "metadata": {},
          "execution_count": 26
        }
      ]
    },
    {
      "cell_type": "code",
      "source": [
        "list_1 = list(pd.unique(df1['sentiment_int'].values))\n",
        "labels = df1['sentiment_int'].replace({1:1, 2:2, 3:3, 4:4, 0:0})"
      ],
      "metadata": {
        "id": "6sn-Yc5lLuHD"
      },
      "execution_count": null,
      "outputs": []
    },
    {
      "cell_type": "code",
      "source": [
        "df1[\"text_corrected\"] = df1['text_corrected'].str.replace('[^\\w\\s]','')"
      ],
      "metadata": {
        "id": "SlCtLwYaLuKE"
      },
      "execution_count": null,
      "outputs": []
    },
    {
      "cell_type": "code",
      "source": [
        "text = df1['text_corrected'].str.lower()"
      ],
      "metadata": {
        "id": "S7PyFKNwL94H"
      },
      "execution_count": null,
      "outputs": []
    },
    {
      "cell_type": "code",
      "source": [
        "df1['meme_text'] = text"
      ],
      "metadata": {
        "id": "9RJnEFCAL96P"
      },
      "execution_count": null,
      "outputs": []
    },
    {
      "cell_type": "code",
      "source": [
        "df1.head()"
      ],
      "metadata": {
        "colab": {
          "base_uri": "https://localhost:8080/",
          "height": 206
        },
        "id": "DwNLekcFL9-Z",
        "outputId": "85d63640-0107-419e-9a21-bd4d68e9b0aa"
      },
      "execution_count": null,
      "outputs": [
        {
          "output_type": "execute_result",
          "data": {
            "text/plain": [
              "                                      text_corrected overall_sentiment  \\\n",
              "0  LOOK THERE MY FRIEND LIGHTYEAR NOW ALL SOHALIK...     very_positive   \n",
              "1  The best of 10 YearChallenge Completed in less...     very_positive   \n",
              "2  Sam Thorne Strippin  Follow Follow Saw everyon...          positive   \n",
              "3               10 Year Challenge  Sweet Dee Edition          positive   \n",
              "4  10 YEAR CHALLENGE WITH NO FILTER 47 Hilarious ...           neutral   \n",
              "\n",
              "   sentiment_int                                          meme_text  \n",
              "0              4  look there my friend lightyear now all sohalik...  \n",
              "1              4  the best of 10 yearchallenge completed in less...  \n",
              "2              2  sam thorne strippin  follow follow saw everyon...  \n",
              "3              2               10 year challenge  sweet dee edition  \n",
              "4              1  10 year challenge with no filter 47 hilarious ...  "
            ],
            "text/html": [
              "\n",
              "  <div id=\"df-e1bddf4f-6043-48d5-93af-8cfd9c202f77\">\n",
              "    <div class=\"colab-df-container\">\n",
              "      <div>\n",
              "<style scoped>\n",
              "    .dataframe tbody tr th:only-of-type {\n",
              "        vertical-align: middle;\n",
              "    }\n",
              "\n",
              "    .dataframe tbody tr th {\n",
              "        vertical-align: top;\n",
              "    }\n",
              "\n",
              "    .dataframe thead th {\n",
              "        text-align: right;\n",
              "    }\n",
              "</style>\n",
              "<table border=\"1\" class=\"dataframe\">\n",
              "  <thead>\n",
              "    <tr style=\"text-align: right;\">\n",
              "      <th></th>\n",
              "      <th>text_corrected</th>\n",
              "      <th>overall_sentiment</th>\n",
              "      <th>sentiment_int</th>\n",
              "      <th>meme_text</th>\n",
              "    </tr>\n",
              "  </thead>\n",
              "  <tbody>\n",
              "    <tr>\n",
              "      <th>0</th>\n",
              "      <td>LOOK THERE MY FRIEND LIGHTYEAR NOW ALL SOHALIK...</td>\n",
              "      <td>very_positive</td>\n",
              "      <td>4</td>\n",
              "      <td>look there my friend lightyear now all sohalik...</td>\n",
              "    </tr>\n",
              "    <tr>\n",
              "      <th>1</th>\n",
              "      <td>The best of 10 YearChallenge Completed in less...</td>\n",
              "      <td>very_positive</td>\n",
              "      <td>4</td>\n",
              "      <td>the best of 10 yearchallenge completed in less...</td>\n",
              "    </tr>\n",
              "    <tr>\n",
              "      <th>2</th>\n",
              "      <td>Sam Thorne Strippin  Follow Follow Saw everyon...</td>\n",
              "      <td>positive</td>\n",
              "      <td>2</td>\n",
              "      <td>sam thorne strippin  follow follow saw everyon...</td>\n",
              "    </tr>\n",
              "    <tr>\n",
              "      <th>3</th>\n",
              "      <td>10 Year Challenge  Sweet Dee Edition</td>\n",
              "      <td>positive</td>\n",
              "      <td>2</td>\n",
              "      <td>10 year challenge  sweet dee edition</td>\n",
              "    </tr>\n",
              "    <tr>\n",
              "      <th>4</th>\n",
              "      <td>10 YEAR CHALLENGE WITH NO FILTER 47 Hilarious ...</td>\n",
              "      <td>neutral</td>\n",
              "      <td>1</td>\n",
              "      <td>10 year challenge with no filter 47 hilarious ...</td>\n",
              "    </tr>\n",
              "  </tbody>\n",
              "</table>\n",
              "</div>\n",
              "      <button class=\"colab-df-convert\" onclick=\"convertToInteractive('df-e1bddf4f-6043-48d5-93af-8cfd9c202f77')\"\n",
              "              title=\"Convert this dataframe to an interactive table.\"\n",
              "              style=\"display:none;\">\n",
              "        \n",
              "  <svg xmlns=\"http://www.w3.org/2000/svg\" height=\"24px\"viewBox=\"0 0 24 24\"\n",
              "       width=\"24px\">\n",
              "    <path d=\"M0 0h24v24H0V0z\" fill=\"none\"/>\n",
              "    <path d=\"M18.56 5.44l.94 2.06.94-2.06 2.06-.94-2.06-.94-.94-2.06-.94 2.06-2.06.94zm-11 1L8.5 8.5l.94-2.06 2.06-.94-2.06-.94L8.5 2.5l-.94 2.06-2.06.94zm10 10l.94 2.06.94-2.06 2.06-.94-2.06-.94-.94-2.06-.94 2.06-2.06.94z\"/><path d=\"M17.41 7.96l-1.37-1.37c-.4-.4-.92-.59-1.43-.59-.52 0-1.04.2-1.43.59L10.3 9.45l-7.72 7.72c-.78.78-.78 2.05 0 2.83L4 21.41c.39.39.9.59 1.41.59.51 0 1.02-.2 1.41-.59l7.78-7.78 2.81-2.81c.8-.78.8-2.07 0-2.86zM5.41 20L4 18.59l7.72-7.72 1.47 1.35L5.41 20z\"/>\n",
              "  </svg>\n",
              "      </button>\n",
              "      \n",
              "  <style>\n",
              "    .colab-df-container {\n",
              "      display:flex;\n",
              "      flex-wrap:wrap;\n",
              "      gap: 12px;\n",
              "    }\n",
              "\n",
              "    .colab-df-convert {\n",
              "      background-color: #E8F0FE;\n",
              "      border: none;\n",
              "      border-radius: 50%;\n",
              "      cursor: pointer;\n",
              "      display: none;\n",
              "      fill: #1967D2;\n",
              "      height: 32px;\n",
              "      padding: 0 0 0 0;\n",
              "      width: 32px;\n",
              "    }\n",
              "\n",
              "    .colab-df-convert:hover {\n",
              "      background-color: #E2EBFA;\n",
              "      box-shadow: 0px 1px 2px rgba(60, 64, 67, 0.3), 0px 1px 3px 1px rgba(60, 64, 67, 0.15);\n",
              "      fill: #174EA6;\n",
              "    }\n",
              "\n",
              "    [theme=dark] .colab-df-convert {\n",
              "      background-color: #3B4455;\n",
              "      fill: #D2E3FC;\n",
              "    }\n",
              "\n",
              "    [theme=dark] .colab-df-convert:hover {\n",
              "      background-color: #434B5C;\n",
              "      box-shadow: 0px 1px 3px 1px rgba(0, 0, 0, 0.15);\n",
              "      filter: drop-shadow(0px 1px 2px rgba(0, 0, 0, 0.3));\n",
              "      fill: #FFFFFF;\n",
              "    }\n",
              "  </style>\n",
              "\n",
              "      <script>\n",
              "        const buttonEl =\n",
              "          document.querySelector('#df-e1bddf4f-6043-48d5-93af-8cfd9c202f77 button.colab-df-convert');\n",
              "        buttonEl.style.display =\n",
              "          google.colab.kernel.accessAllowed ? 'block' : 'none';\n",
              "\n",
              "        async function convertToInteractive(key) {\n",
              "          const element = document.querySelector('#df-e1bddf4f-6043-48d5-93af-8cfd9c202f77');\n",
              "          const dataTable =\n",
              "            await google.colab.kernel.invokeFunction('convertToInteractive',\n",
              "                                                     [key], {});\n",
              "          if (!dataTable) return;\n",
              "\n",
              "          const docLinkHtml = 'Like what you see? Visit the ' +\n",
              "            '<a target=\"_blank\" href=https://colab.research.google.com/notebooks/data_table.ipynb>data table notebook</a>'\n",
              "            + ' to learn more about interactive tables.';\n",
              "          element.innerHTML = '';\n",
              "          dataTable['output_type'] = 'display_data';\n",
              "          await google.colab.output.renderOutput(dataTable, element);\n",
              "          const docLink = document.createElement('div');\n",
              "          docLink.innerHTML = docLinkHtml;\n",
              "          element.appendChild(docLink);\n",
              "        }\n",
              "      </script>\n",
              "    </div>\n",
              "  </div>\n",
              "  "
            ]
          },
          "metadata": {},
          "execution_count": 31
        }
      ]
    },
    {
      "cell_type": "code",
      "source": [
        "df2 = df1[['meme_text', 'sentiment_int']]\n",
        "df2.head()"
      ],
      "metadata": {
        "colab": {
          "base_uri": "https://localhost:8080/",
          "height": 206
        },
        "id": "hMEsDYQjMHoN",
        "outputId": "1735b8c9-d639-4915-b72d-36b3fab2892f"
      },
      "execution_count": null,
      "outputs": [
        {
          "output_type": "execute_result",
          "data": {
            "text/plain": [
              "                                           meme_text  sentiment_int\n",
              "0  look there my friend lightyear now all sohalik...              4\n",
              "1  the best of 10 yearchallenge completed in less...              4\n",
              "2  sam thorne strippin  follow follow saw everyon...              2\n",
              "3               10 year challenge  sweet dee edition              2\n",
              "4  10 year challenge with no filter 47 hilarious ...              1"
            ],
            "text/html": [
              "\n",
              "  <div id=\"df-19f87a38-5623-4be4-ba01-17ba6f82c91b\">\n",
              "    <div class=\"colab-df-container\">\n",
              "      <div>\n",
              "<style scoped>\n",
              "    .dataframe tbody tr th:only-of-type {\n",
              "        vertical-align: middle;\n",
              "    }\n",
              "\n",
              "    .dataframe tbody tr th {\n",
              "        vertical-align: top;\n",
              "    }\n",
              "\n",
              "    .dataframe thead th {\n",
              "        text-align: right;\n",
              "    }\n",
              "</style>\n",
              "<table border=\"1\" class=\"dataframe\">\n",
              "  <thead>\n",
              "    <tr style=\"text-align: right;\">\n",
              "      <th></th>\n",
              "      <th>meme_text</th>\n",
              "      <th>sentiment_int</th>\n",
              "    </tr>\n",
              "  </thead>\n",
              "  <tbody>\n",
              "    <tr>\n",
              "      <th>0</th>\n",
              "      <td>look there my friend lightyear now all sohalik...</td>\n",
              "      <td>4</td>\n",
              "    </tr>\n",
              "    <tr>\n",
              "      <th>1</th>\n",
              "      <td>the best of 10 yearchallenge completed in less...</td>\n",
              "      <td>4</td>\n",
              "    </tr>\n",
              "    <tr>\n",
              "      <th>2</th>\n",
              "      <td>sam thorne strippin  follow follow saw everyon...</td>\n",
              "      <td>2</td>\n",
              "    </tr>\n",
              "    <tr>\n",
              "      <th>3</th>\n",
              "      <td>10 year challenge  sweet dee edition</td>\n",
              "      <td>2</td>\n",
              "    </tr>\n",
              "    <tr>\n",
              "      <th>4</th>\n",
              "      <td>10 year challenge with no filter 47 hilarious ...</td>\n",
              "      <td>1</td>\n",
              "    </tr>\n",
              "  </tbody>\n",
              "</table>\n",
              "</div>\n",
              "      <button class=\"colab-df-convert\" onclick=\"convertToInteractive('df-19f87a38-5623-4be4-ba01-17ba6f82c91b')\"\n",
              "              title=\"Convert this dataframe to an interactive table.\"\n",
              "              style=\"display:none;\">\n",
              "        \n",
              "  <svg xmlns=\"http://www.w3.org/2000/svg\" height=\"24px\"viewBox=\"0 0 24 24\"\n",
              "       width=\"24px\">\n",
              "    <path d=\"M0 0h24v24H0V0z\" fill=\"none\"/>\n",
              "    <path d=\"M18.56 5.44l.94 2.06.94-2.06 2.06-.94-2.06-.94-.94-2.06-.94 2.06-2.06.94zm-11 1L8.5 8.5l.94-2.06 2.06-.94-2.06-.94L8.5 2.5l-.94 2.06-2.06.94zm10 10l.94 2.06.94-2.06 2.06-.94-2.06-.94-.94-2.06-.94 2.06-2.06.94z\"/><path d=\"M17.41 7.96l-1.37-1.37c-.4-.4-.92-.59-1.43-.59-.52 0-1.04.2-1.43.59L10.3 9.45l-7.72 7.72c-.78.78-.78 2.05 0 2.83L4 21.41c.39.39.9.59 1.41.59.51 0 1.02-.2 1.41-.59l7.78-7.78 2.81-2.81c.8-.78.8-2.07 0-2.86zM5.41 20L4 18.59l7.72-7.72 1.47 1.35L5.41 20z\"/>\n",
              "  </svg>\n",
              "      </button>\n",
              "      \n",
              "  <style>\n",
              "    .colab-df-container {\n",
              "      display:flex;\n",
              "      flex-wrap:wrap;\n",
              "      gap: 12px;\n",
              "    }\n",
              "\n",
              "    .colab-df-convert {\n",
              "      background-color: #E8F0FE;\n",
              "      border: none;\n",
              "      border-radius: 50%;\n",
              "      cursor: pointer;\n",
              "      display: none;\n",
              "      fill: #1967D2;\n",
              "      height: 32px;\n",
              "      padding: 0 0 0 0;\n",
              "      width: 32px;\n",
              "    }\n",
              "\n",
              "    .colab-df-convert:hover {\n",
              "      background-color: #E2EBFA;\n",
              "      box-shadow: 0px 1px 2px rgba(60, 64, 67, 0.3), 0px 1px 3px 1px rgba(60, 64, 67, 0.15);\n",
              "      fill: #174EA6;\n",
              "    }\n",
              "\n",
              "    [theme=dark] .colab-df-convert {\n",
              "      background-color: #3B4455;\n",
              "      fill: #D2E3FC;\n",
              "    }\n",
              "\n",
              "    [theme=dark] .colab-df-convert:hover {\n",
              "      background-color: #434B5C;\n",
              "      box-shadow: 0px 1px 3px 1px rgba(0, 0, 0, 0.15);\n",
              "      filter: drop-shadow(0px 1px 2px rgba(0, 0, 0, 0.3));\n",
              "      fill: #FFFFFF;\n",
              "    }\n",
              "  </style>\n",
              "\n",
              "      <script>\n",
              "        const buttonEl =\n",
              "          document.querySelector('#df-19f87a38-5623-4be4-ba01-17ba6f82c91b button.colab-df-convert');\n",
              "        buttonEl.style.display =\n",
              "          google.colab.kernel.accessAllowed ? 'block' : 'none';\n",
              "\n",
              "        async function convertToInteractive(key) {\n",
              "          const element = document.querySelector('#df-19f87a38-5623-4be4-ba01-17ba6f82c91b');\n",
              "          const dataTable =\n",
              "            await google.colab.kernel.invokeFunction('convertToInteractive',\n",
              "                                                     [key], {});\n",
              "          if (!dataTable) return;\n",
              "\n",
              "          const docLinkHtml = 'Like what you see? Visit the ' +\n",
              "            '<a target=\"_blank\" href=https://colab.research.google.com/notebooks/data_table.ipynb>data table notebook</a>'\n",
              "            + ' to learn more about interactive tables.';\n",
              "          element.innerHTML = '';\n",
              "          dataTable['output_type'] = 'display_data';\n",
              "          await google.colab.output.renderOutput(dataTable, element);\n",
              "          const docLink = document.createElement('div');\n",
              "          docLink.innerHTML = docLinkHtml;\n",
              "          element.appendChild(docLink);\n",
              "        }\n",
              "      </script>\n",
              "    </div>\n",
              "  </div>\n",
              "  "
            ]
          },
          "metadata": {},
          "execution_count": 32
        }
      ]
    },
    {
      "cell_type": "code",
      "source": [
        "import tensorflow\n",
        "import matplotlib.pyplot as plt\n",
        "import seaborn as sns\n",
        "from sklearn.model_selection import train_test_split\n",
        "from sklearn.preprocessing import LabelEncoder\n",
        "from keras.models import Model\n",
        "from keras.layers import LSTM, Activation, Dense, Dropout, Input, Embedding\n",
        "from tensorflow.keras.optimizers import RMSprop\n",
        "from keras.preprocessing.text import Tokenizer\n",
        "from keras.preprocessing import sequence\n",
        "from tensorflow.keras.utils import to_categorical\n",
        "from keras.callbacks import EarlyStopping\n",
        "%matplotlib inline"
      ],
      "metadata": {
        "id": "D9PDz6lMMHqr"
      },
      "execution_count": null,
      "outputs": []
    },
    {
      "cell_type": "code",
      "source": [
        "df1['sentiment'] = df1['overall_sentiment'].astype('category')"
      ],
      "metadata": {
        "id": "pJTZz4y4MHui"
      },
      "execution_count": null,
      "outputs": []
    },
    {
      "cell_type": "code",
      "source": [
        "df1.head()"
      ],
      "metadata": {
        "colab": {
          "base_uri": "https://localhost:8080/",
          "height": 206
        },
        "id": "8yvysTjOMQfy",
        "outputId": "5cdf8194-28a2-42fa-d8de-95d07967006b"
      },
      "execution_count": null,
      "outputs": [
        {
          "output_type": "execute_result",
          "data": {
            "text/plain": [
              "                                      text_corrected overall_sentiment  \\\n",
              "0  LOOK THERE MY FRIEND LIGHTYEAR NOW ALL SOHALIK...     very_positive   \n",
              "1  The best of 10 YearChallenge Completed in less...     very_positive   \n",
              "2  Sam Thorne Strippin  Follow Follow Saw everyon...          positive   \n",
              "3               10 Year Challenge  Sweet Dee Edition          positive   \n",
              "4  10 YEAR CHALLENGE WITH NO FILTER 47 Hilarious ...           neutral   \n",
              "\n",
              "   sentiment_int                                          meme_text  \\\n",
              "0              4  look there my friend lightyear now all sohalik...   \n",
              "1              4  the best of 10 yearchallenge completed in less...   \n",
              "2              2  sam thorne strippin  follow follow saw everyon...   \n",
              "3              2               10 year challenge  sweet dee edition   \n",
              "4              1  10 year challenge with no filter 47 hilarious ...   \n",
              "\n",
              "       sentiment  \n",
              "0  very_positive  \n",
              "1  very_positive  \n",
              "2       positive  \n",
              "3       positive  \n",
              "4        neutral  "
            ],
            "text/html": [
              "\n",
              "  <div id=\"df-6636e843-4514-4b07-bf6e-d7fec2ce4fd7\">\n",
              "    <div class=\"colab-df-container\">\n",
              "      <div>\n",
              "<style scoped>\n",
              "    .dataframe tbody tr th:only-of-type {\n",
              "        vertical-align: middle;\n",
              "    }\n",
              "\n",
              "    .dataframe tbody tr th {\n",
              "        vertical-align: top;\n",
              "    }\n",
              "\n",
              "    .dataframe thead th {\n",
              "        text-align: right;\n",
              "    }\n",
              "</style>\n",
              "<table border=\"1\" class=\"dataframe\">\n",
              "  <thead>\n",
              "    <tr style=\"text-align: right;\">\n",
              "      <th></th>\n",
              "      <th>text_corrected</th>\n",
              "      <th>overall_sentiment</th>\n",
              "      <th>sentiment_int</th>\n",
              "      <th>meme_text</th>\n",
              "      <th>sentiment</th>\n",
              "    </tr>\n",
              "  </thead>\n",
              "  <tbody>\n",
              "    <tr>\n",
              "      <th>0</th>\n",
              "      <td>LOOK THERE MY FRIEND LIGHTYEAR NOW ALL SOHALIK...</td>\n",
              "      <td>very_positive</td>\n",
              "      <td>4</td>\n",
              "      <td>look there my friend lightyear now all sohalik...</td>\n",
              "      <td>very_positive</td>\n",
              "    </tr>\n",
              "    <tr>\n",
              "      <th>1</th>\n",
              "      <td>The best of 10 YearChallenge Completed in less...</td>\n",
              "      <td>very_positive</td>\n",
              "      <td>4</td>\n",
              "      <td>the best of 10 yearchallenge completed in less...</td>\n",
              "      <td>very_positive</td>\n",
              "    </tr>\n",
              "    <tr>\n",
              "      <th>2</th>\n",
              "      <td>Sam Thorne Strippin  Follow Follow Saw everyon...</td>\n",
              "      <td>positive</td>\n",
              "      <td>2</td>\n",
              "      <td>sam thorne strippin  follow follow saw everyon...</td>\n",
              "      <td>positive</td>\n",
              "    </tr>\n",
              "    <tr>\n",
              "      <th>3</th>\n",
              "      <td>10 Year Challenge  Sweet Dee Edition</td>\n",
              "      <td>positive</td>\n",
              "      <td>2</td>\n",
              "      <td>10 year challenge  sweet dee edition</td>\n",
              "      <td>positive</td>\n",
              "    </tr>\n",
              "    <tr>\n",
              "      <th>4</th>\n",
              "      <td>10 YEAR CHALLENGE WITH NO FILTER 47 Hilarious ...</td>\n",
              "      <td>neutral</td>\n",
              "      <td>1</td>\n",
              "      <td>10 year challenge with no filter 47 hilarious ...</td>\n",
              "      <td>neutral</td>\n",
              "    </tr>\n",
              "  </tbody>\n",
              "</table>\n",
              "</div>\n",
              "      <button class=\"colab-df-convert\" onclick=\"convertToInteractive('df-6636e843-4514-4b07-bf6e-d7fec2ce4fd7')\"\n",
              "              title=\"Convert this dataframe to an interactive table.\"\n",
              "              style=\"display:none;\">\n",
              "        \n",
              "  <svg xmlns=\"http://www.w3.org/2000/svg\" height=\"24px\"viewBox=\"0 0 24 24\"\n",
              "       width=\"24px\">\n",
              "    <path d=\"M0 0h24v24H0V0z\" fill=\"none\"/>\n",
              "    <path d=\"M18.56 5.44l.94 2.06.94-2.06 2.06-.94-2.06-.94-.94-2.06-.94 2.06-2.06.94zm-11 1L8.5 8.5l.94-2.06 2.06-.94-2.06-.94L8.5 2.5l-.94 2.06-2.06.94zm10 10l.94 2.06.94-2.06 2.06-.94-2.06-.94-.94-2.06-.94 2.06-2.06.94z\"/><path d=\"M17.41 7.96l-1.37-1.37c-.4-.4-.92-.59-1.43-.59-.52 0-1.04.2-1.43.59L10.3 9.45l-7.72 7.72c-.78.78-.78 2.05 0 2.83L4 21.41c.39.39.9.59 1.41.59.51 0 1.02-.2 1.41-.59l7.78-7.78 2.81-2.81c.8-.78.8-2.07 0-2.86zM5.41 20L4 18.59l7.72-7.72 1.47 1.35L5.41 20z\"/>\n",
              "  </svg>\n",
              "      </button>\n",
              "      \n",
              "  <style>\n",
              "    .colab-df-container {\n",
              "      display:flex;\n",
              "      flex-wrap:wrap;\n",
              "      gap: 12px;\n",
              "    }\n",
              "\n",
              "    .colab-df-convert {\n",
              "      background-color: #E8F0FE;\n",
              "      border: none;\n",
              "      border-radius: 50%;\n",
              "      cursor: pointer;\n",
              "      display: none;\n",
              "      fill: #1967D2;\n",
              "      height: 32px;\n",
              "      padding: 0 0 0 0;\n",
              "      width: 32px;\n",
              "    }\n",
              "\n",
              "    .colab-df-convert:hover {\n",
              "      background-color: #E2EBFA;\n",
              "      box-shadow: 0px 1px 2px rgba(60, 64, 67, 0.3), 0px 1px 3px 1px rgba(60, 64, 67, 0.15);\n",
              "      fill: #174EA6;\n",
              "    }\n",
              "\n",
              "    [theme=dark] .colab-df-convert {\n",
              "      background-color: #3B4455;\n",
              "      fill: #D2E3FC;\n",
              "    }\n",
              "\n",
              "    [theme=dark] .colab-df-convert:hover {\n",
              "      background-color: #434B5C;\n",
              "      box-shadow: 0px 1px 3px 1px rgba(0, 0, 0, 0.15);\n",
              "      filter: drop-shadow(0px 1px 2px rgba(0, 0, 0, 0.3));\n",
              "      fill: #FFFFFF;\n",
              "    }\n",
              "  </style>\n",
              "\n",
              "      <script>\n",
              "        const buttonEl =\n",
              "          document.querySelector('#df-6636e843-4514-4b07-bf6e-d7fec2ce4fd7 button.colab-df-convert');\n",
              "        buttonEl.style.display =\n",
              "          google.colab.kernel.accessAllowed ? 'block' : 'none';\n",
              "\n",
              "        async function convertToInteractive(key) {\n",
              "          const element = document.querySelector('#df-6636e843-4514-4b07-bf6e-d7fec2ce4fd7');\n",
              "          const dataTable =\n",
              "            await google.colab.kernel.invokeFunction('convertToInteractive',\n",
              "                                                     [key], {});\n",
              "          if (!dataTable) return;\n",
              "\n",
              "          const docLinkHtml = 'Like what you see? Visit the ' +\n",
              "            '<a target=\"_blank\" href=https://colab.research.google.com/notebooks/data_table.ipynb>data table notebook</a>'\n",
              "            + ' to learn more about interactive tables.';\n",
              "          element.innerHTML = '';\n",
              "          dataTable['output_type'] = 'display_data';\n",
              "          await google.colab.output.renderOutput(dataTable, element);\n",
              "          const docLink = document.createElement('div');\n",
              "          docLink.innerHTML = docLinkHtml;\n",
              "          element.appendChild(docLink);\n",
              "        }\n",
              "      </script>\n",
              "    </div>\n",
              "  </div>\n",
              "  "
            ]
          },
          "metadata": {},
          "execution_count": 35
        }
      ]
    },
    {
      "cell_type": "code",
      "source": [
        "X = df2.meme_text\n",
        "Y = df2.sentiment_int\n",
        "le = LabelEncoder()\n",
        "Y = le.fit_transform(Y)\n",
        "Y = Y.reshape(-1,1)"
      ],
      "metadata": {
        "id": "RQnGMIRBMQhj"
      },
      "execution_count": null,
      "outputs": []
    },
    {
      "cell_type": "code",
      "source": [
        "X_train,X_test,Y_train,Y_test = train_test_split(X,Y,test_size=0.15)"
      ],
      "metadata": {
        "id": "M7itkxyKMUf9"
      },
      "execution_count": null,
      "outputs": []
    },
    {
      "cell_type": "code",
      "source": [
        "max_words = 10000\n",
        "max_len = 150\n",
        "tok = Tokenizer(num_words=max_words)\n",
        "tok.fit_on_texts(X_train)\n",
        "sequences = tok.texts_to_sequences(X_train)\n",
        "sequences_matrix = sequence.pad_sequences(sequences,maxlen=max_len)"
      ],
      "metadata": {
        "id": "ilDXJCGYMUiG"
      },
      "execution_count": null,
      "outputs": []
    },
    {
      "cell_type": "code",
      "source": [
        "def RNN():\n",
        "    inputs = Input(name='inputs',shape=[max_len])\n",
        "    layer = Embedding(max_words,50,input_length=max_len)(inputs)\n",
        "    layer = LSTM(64)(layer)\n",
        "    layer = Dense(256,name='FC1')(layer)\n",
        "    layer = Activation('relu')(layer)\n",
        "    layer = Dropout(0.2)(layer)\n",
        "    layer = Dense(1,name='out_layer')(layer)\n",
        "    layer = Activation('softmax')(layer)\n",
        "    model = Model(inputs=inputs,outputs=layer)\n",
        "    return model"
      ],
      "metadata": {
        "id": "RVU8x-qAMUlW"
      },
      "execution_count": null,
      "outputs": []
    },
    {
      "cell_type": "code",
      "source": [
        "model = RNN()\n",
        "model.summary()\n",
        "model.compile(loss='mean_squared_error',optimizer=RMSprop(),metrics=['accuracy'])"
      ],
      "metadata": {
        "colab": {
          "base_uri": "https://localhost:8080/"
        },
        "id": "WVHOk3IpMUnw",
        "outputId": "6e1101c8-0699-4f96-e90b-eeba1c7e9fb7"
      },
      "execution_count": null,
      "outputs": [
        {
          "output_type": "stream",
          "name": "stdout",
          "text": [
            "Model: \"model\"\n",
            "_________________________________________________________________\n",
            " Layer (type)                Output Shape              Param #   \n",
            "=================================================================\n",
            " inputs (InputLayer)         [(None, 150)]             0         \n",
            "                                                                 \n",
            " embedding (Embedding)       (None, 150, 50)           500000    \n",
            "                                                                 \n",
            " lstm (LSTM)                 (None, 64)                29440     \n",
            "                                                                 \n",
            " FC1 (Dense)                 (None, 256)               16640     \n",
            "                                                                 \n",
            " activation (Activation)     (None, 256)               0         \n",
            "                                                                 \n",
            " dropout (Dropout)           (None, 256)               0         \n",
            "                                                                 \n",
            " out_layer (Dense)           (None, 1)                 257       \n",
            "                                                                 \n",
            " activation_1 (Activation)   (None, 1)                 0         \n",
            "                                                                 \n",
            "=================================================================\n",
            "Total params: 546,337\n",
            "Trainable params: 546,337\n",
            "Non-trainable params: 0\n",
            "_________________________________________________________________\n"
          ]
        }
      ]
    },
    {
      "cell_type": "code",
      "source": [
        "model.fit(sequences_matrix,Y_train,batch_size=128,epochs=10,\n",
        "          validation_split=0.2,callbacks=[EarlyStopping(monitor='val_loss',min_delta=0.0001)])"
      ],
      "metadata": {
        "colab": {
          "base_uri": "https://localhost:8080/"
        },
        "id": "3ghaIHhqMUqo",
        "outputId": "3f18bc9d-194f-4c12-c2b9-13a8db0766f8"
      },
      "execution_count": null,
      "outputs": [
        {
          "output_type": "stream",
          "name": "stdout",
          "text": [
            "Epoch 1/10\n",
            "38/38 [==============================] - 8s 53ms/step - loss: 1.8962 - accuracy: 0.3192 - val_loss: 1.9891 - val_accuracy: 0.3123\n",
            "Epoch 2/10\n",
            "38/38 [==============================] - 1s 38ms/step - loss: 1.8962 - accuracy: 0.3192 - val_loss: 1.9891 - val_accuracy: 0.3123\n"
          ]
        },
        {
          "output_type": "execute_result",
          "data": {
            "text/plain": [
              "<keras.callbacks.History at 0x7f461aeac250>"
            ]
          },
          "metadata": {},
          "execution_count": 41
        }
      ]
    },
    {
      "cell_type": "code",
      "source": [
        "from keras.preprocessing.sequence import pad_sequences\n",
        "from keras.models import Sequential\n",
        "from keras.layers import Dense, Embedding, LSTM, SpatialDropout1D\n",
        "from sklearn.model_selection import StratifiedKFold\n",
        "from sklearn.model_selection import cross_val_score, cross_val_predict"
      ],
      "metadata": {
        "id": "oVNrIIIpMUtL"
      },
      "execution_count": null,
      "outputs": []
    },
    {
      "cell_type": "code",
      "source": [
        "max_fatures = 2000\n",
        "tokenizer = Tokenizer(num_words=max_fatures, split=' ')\n",
        "tokenizer.fit_on_texts(df2['meme_text'].values)\n",
        "X = tokenizer.texts_to_sequences(df2['meme_text'].values)\n",
        "X = pad_sequences(X)"
      ],
      "metadata": {
        "id": "Pc1OBhP1MUvx"
      },
      "execution_count": null,
      "outputs": []
    },
    {
      "cell_type": "code",
      "source": [
        "embed_dim = 128\n",
        "lstm_out = 196\n",
        "\n",
        "model = Sequential()\n",
        "model.add(Embedding(max_fatures, embed_dim,input_length = X.shape[1]))\n",
        "model.add(SpatialDropout1D(0.4))\n",
        "model.add(LSTM(lstm_out, dropout=0.2, recurrent_dropout=0.2))\n",
        "model.add(Dense(5,activation='softmax'))\n",
        "model.compile(loss = 'categorical_crossentropy', optimizer='adam',metrics = ['accuracy'])\n",
        "print(model.summary())"
      ],
      "metadata": {
        "colab": {
          "base_uri": "https://localhost:8080/"
        },
        "id": "vrEjXVbvMUx_",
        "outputId": "6760f484-0887-4ebe-db71-889fa3e04e90"
      },
      "execution_count": null,
      "outputs": [
        {
          "output_type": "stream",
          "name": "stdout",
          "text": [
            "WARNING:tensorflow:Layer lstm_1 will not use cuDNN kernels since it doesn't meet the criteria. It will use a generic GPU kernel as fallback when running on GPU.\n",
            "Model: \"sequential\"\n",
            "_________________________________________________________________\n",
            " Layer (type)                Output Shape              Param #   \n",
            "=================================================================\n",
            " embedding_1 (Embedding)     (None, 127, 128)          256000    \n",
            "                                                                 \n",
            " spatial_dropout1d (SpatialD  (None, 127, 128)         0         \n",
            " ropout1D)                                                       \n",
            "                                                                 \n",
            " lstm_1 (LSTM)               (None, 196)               254800    \n",
            "                                                                 \n",
            " dense (Dense)               (None, 5)                 985       \n",
            "                                                                 \n",
            "=================================================================\n",
            "Total params: 511,785\n",
            "Trainable params: 511,785\n",
            "Non-trainable params: 0\n",
            "_________________________________________________________________\n",
            "None\n"
          ]
        }
      ]
    },
    {
      "cell_type": "code",
      "source": [
        "Y = pd.get_dummies(df2['sentiment_int']).values\n",
        "X_train, X_test, Y_train, Y_test = train_test_split(X,Y, test_size = 0.33, random_state = 42)\n",
        "print(X_train.shape,Y_train.shape)\n",
        "print(X_test.shape,Y_test.shape)"
      ],
      "metadata": {
        "colab": {
          "base_uri": "https://localhost:8080/"
        },
        "id": "A2j6SHZNMU1L",
        "outputId": "c7ee98c4-8280-4629-9074-09c2f18878a4"
      },
      "execution_count": null,
      "outputs": [
        {
          "output_type": "stream",
          "name": "stdout",
          "text": [
            "(4681, 127) (4681, 5)\n",
            "(2306, 127) (2306, 5)\n"
          ]
        }
      ]
    },
    {
      "cell_type": "code",
      "source": [
        "batch_size = 32\n",
        "model.fit(X_train, Y_train, epochs = 10, batch_size=batch_size, verbose = 2)"
      ],
      "metadata": {
        "colab": {
          "base_uri": "https://localhost:8080/"
        },
        "id": "IrVRwWprMU3F",
        "outputId": "da404d48-9685-486a-ceff-b67cc74aa77d"
      },
      "execution_count": null,
      "outputs": [
        {
          "output_type": "stream",
          "name": "stdout",
          "text": [
            "Epoch 1/10\n",
            "147/147 - 103s - loss: 1.3115 - accuracy: 0.4292 - 103s/epoch - 702ms/step\n",
            "Epoch 2/10\n",
            "147/147 - 111s - loss: 1.2686 - accuracy: 0.4499 - 111s/epoch - 754ms/step\n",
            "Epoch 3/10\n",
            "147/147 - 126s - loss: 1.2002 - accuracy: 0.4899 - 126s/epoch - 857ms/step\n",
            "Epoch 4/10\n",
            "147/147 - 103s - loss: 1.0935 - accuracy: 0.5437 - 103s/epoch - 701ms/step\n",
            "Epoch 5/10\n",
            "147/147 - 102s - loss: 0.9956 - accuracy: 0.5932 - 102s/epoch - 692ms/step\n",
            "Epoch 6/10\n",
            "147/147 - 104s - loss: 0.8922 - accuracy: 0.6392 - 104s/epoch - 708ms/step\n",
            "Epoch 7/10\n",
            "147/147 - 103s - loss: 0.8151 - accuracy: 0.6776 - 103s/epoch - 702ms/step\n",
            "Epoch 8/10\n",
            "147/147 - 102s - loss: 0.7525 - accuracy: 0.6928 - 102s/epoch - 696ms/step\n",
            "Epoch 9/10\n",
            "147/147 - 101s - loss: 0.6905 - accuracy: 0.7289 - 101s/epoch - 689ms/step\n",
            "Epoch 10/10\n",
            "147/147 - 101s - loss: 0.6267 - accuracy: 0.7451 - 101s/epoch - 686ms/step\n"
          ]
        },
        {
          "output_type": "execute_result",
          "data": {
            "text/plain": [
              "<keras.callbacks.History at 0x7f461ac8dcd0>"
            ]
          },
          "metadata": {},
          "execution_count": 46
        }
      ]
    },
    {
      "cell_type": "code",
      "source": [
        "n_folds = 3 \n",
        "cv_scores, model_history = list(), list()\n",
        "for i in range(n_folds):\n",
        "    X_train, X_test, Y_train, Y_test = train_test_split(X, Y, test_size=0.10, random_state = 42)\n",
        "    model, test_acc = model.fit(X_test, Y_test, epochs = 10, batch_size = 32)\n",
        "    #print('>%.3f' % test_acc)\n",
        "    cv_scores.append(test_acc)\n",
        "    model_history.append(model)\n",
        "    \n",
        "print('Estimated Accuracy %.3f (%.3f)' % (np.mean(cv_scores), np.std(cv_scores)))"
      ],
      "metadata": {
        "colab": {
          "base_uri": "https://localhost:8080/",
          "height": 582
        },
        "id": "gJNWKxOlMU6B",
        "outputId": "8838f850-99be-45f8-f35a-da4cbd35e4b8"
      },
      "execution_count": null,
      "outputs": [
        {
          "output_type": "stream",
          "name": "stdout",
          "text": [
            "Epoch 1/10\n",
            "22/22 [==============================] - 16s 710ms/step - loss: 1.7129 - accuracy: 0.3677\n",
            "Epoch 2/10\n",
            "22/22 [==============================] - 16s 717ms/step - loss: 1.2487 - accuracy: 0.4564\n",
            "Epoch 3/10\n",
            "22/22 [==============================] - 16s 707ms/step - loss: 1.2257 - accuracy: 0.4735\n",
            "Epoch 4/10\n",
            "22/22 [==============================] - 16s 715ms/step - loss: 1.2034 - accuracy: 0.4750\n",
            "Epoch 5/10\n",
            "22/22 [==============================] - 16s 714ms/step - loss: 1.1628 - accuracy: 0.4878\n",
            "Epoch 6/10\n",
            "22/22 [==============================] - 16s 713ms/step - loss: 1.1235 - accuracy: 0.5079\n",
            "Epoch 7/10\n",
            "22/22 [==============================] - 16s 710ms/step - loss: 1.0881 - accuracy: 0.5222\n",
            "Epoch 8/10\n",
            "22/22 [==============================] - 16s 716ms/step - loss: 1.0168 - accuracy: 0.5651\n",
            "Epoch 9/10\n",
            "22/22 [==============================] - 15s 702ms/step - loss: 0.9510 - accuracy: 0.6023\n",
            "Epoch 10/10\n",
            "22/22 [==============================] - 16s 720ms/step - loss: 0.8675 - accuracy: 0.6409\n"
          ]
        },
        {
          "output_type": "error",
          "ename": "TypeError",
          "evalue": "ignored",
          "traceback": [
            "\u001b[0;31m---------------------------------------------------------------------------\u001b[0m",
            "\u001b[0;31mTypeError\u001b[0m                                 Traceback (most recent call last)",
            "\u001b[0;32m<ipython-input-47-73cc75902697>\u001b[0m in \u001b[0;36m<module>\u001b[0;34m()\u001b[0m\n\u001b[1;32m      3\u001b[0m \u001b[0;32mfor\u001b[0m \u001b[0mi\u001b[0m \u001b[0;32min\u001b[0m \u001b[0mrange\u001b[0m\u001b[0;34m(\u001b[0m\u001b[0mn_folds\u001b[0m\u001b[0;34m)\u001b[0m\u001b[0;34m:\u001b[0m\u001b[0;34m\u001b[0m\u001b[0;34m\u001b[0m\u001b[0m\n\u001b[1;32m      4\u001b[0m     \u001b[0mX_train\u001b[0m\u001b[0;34m,\u001b[0m \u001b[0mX_test\u001b[0m\u001b[0;34m,\u001b[0m \u001b[0mY_train\u001b[0m\u001b[0;34m,\u001b[0m \u001b[0mY_test\u001b[0m \u001b[0;34m=\u001b[0m \u001b[0mtrain_test_split\u001b[0m\u001b[0;34m(\u001b[0m\u001b[0mX\u001b[0m\u001b[0;34m,\u001b[0m \u001b[0mY\u001b[0m\u001b[0;34m,\u001b[0m \u001b[0mtest_size\u001b[0m\u001b[0;34m=\u001b[0m\u001b[0;36m0.10\u001b[0m\u001b[0;34m,\u001b[0m \u001b[0mrandom_state\u001b[0m \u001b[0;34m=\u001b[0m \u001b[0;36m42\u001b[0m\u001b[0;34m)\u001b[0m\u001b[0;34m\u001b[0m\u001b[0;34m\u001b[0m\u001b[0m\n\u001b[0;32m----> 5\u001b[0;31m     \u001b[0mmodel\u001b[0m\u001b[0;34m,\u001b[0m \u001b[0mtest_acc\u001b[0m \u001b[0;34m=\u001b[0m \u001b[0mmodel\u001b[0m\u001b[0;34m.\u001b[0m\u001b[0mfit\u001b[0m\u001b[0;34m(\u001b[0m\u001b[0mX_test\u001b[0m\u001b[0;34m,\u001b[0m \u001b[0mY_test\u001b[0m\u001b[0;34m,\u001b[0m \u001b[0mepochs\u001b[0m \u001b[0;34m=\u001b[0m \u001b[0;36m10\u001b[0m\u001b[0;34m,\u001b[0m \u001b[0mbatch_size\u001b[0m \u001b[0;34m=\u001b[0m \u001b[0;36m32\u001b[0m\u001b[0;34m)\u001b[0m\u001b[0;34m\u001b[0m\u001b[0;34m\u001b[0m\u001b[0m\n\u001b[0m\u001b[1;32m      6\u001b[0m     \u001b[0;31m#print('>%.3f' % test_acc)\u001b[0m\u001b[0;34m\u001b[0m\u001b[0;34m\u001b[0m\u001b[0;34m\u001b[0m\u001b[0m\n\u001b[1;32m      7\u001b[0m     \u001b[0mcv_scores\u001b[0m\u001b[0;34m.\u001b[0m\u001b[0mappend\u001b[0m\u001b[0;34m(\u001b[0m\u001b[0mtest_acc\u001b[0m\u001b[0;34m)\u001b[0m\u001b[0;34m\u001b[0m\u001b[0;34m\u001b[0m\u001b[0m\n",
            "\u001b[0;31mTypeError\u001b[0m: cannot unpack non-iterable History object"
          ]
        }
      ]
    },
    {
      "cell_type": "code",
      "source": [
        "validation_size = 1500\n",
        "\n",
        "X_validate = X_test[-validation_size:]\n",
        "Y_validate = Y_test[-validation_size:]\n",
        "X_test = X_test[-validation_size:]\n",
        "Y_test = Y_test[-validation_size:]\n",
        "score,acc = model.evaluate(X_test, Y_test, verbose = 2, batch_size = batch_size)\n",
        "print(\"score: %.2f\" % (score))\n",
        "print(\"acc: %.2f\" % (acc))"
      ],
      "metadata": {
        "colab": {
          "base_uri": "https://localhost:8080/"
        },
        "id": "6kjm5qwUMU8G",
        "outputId": "1bd726f2-3f2f-4376-d486-c8e7def94453"
      },
      "execution_count": null,
      "outputs": [
        {
          "output_type": "stream",
          "name": "stdout",
          "text": [
            "22/22 - 2s - loss: 0.7811 - accuracy: 0.7010 - 2s/epoch - 86ms/step\n",
            "score: 0.78\n",
            "acc: 0.70\n"
          ]
        }
      ]
    },
    {
      "cell_type": "code",
      "source": [
        "pos_cnt, neg_cnt, neg_correct, pos_correct = 0, 0, 0, 0\n",
        "for x in range(len(X_validate)):\n",
        "    \n",
        "    result = model.predict(X_validate[x].reshape(1,X_test.shape[1]),batch_size=1,verbose = 2)[0]\n",
        "   \n",
        "    if np.argmax(result) == np.argmax(Y_validate[x]):\n",
        "        if np.argmax(Y_validate[x]) == 3 or np.argmax(Y_validate[x]) == 4:\n",
        "            neg_correct += 1\n",
        "        else:\n",
        "            pos_correct += 1\n",
        "       \n",
        "    if np.argmax(Y_validate[x]) == 3 or np.argmax(Y_validate[x]) == 4:\n",
        "        neg_cnt += 1\n",
        "    else:\n",
        "        pos_cnt += 1\n",
        "\n",
        "\n",
        "\n",
        "print(\"pos_acc\", pos_correct/pos_cnt*100, \"%\")\n",
        "print(\"neg_acc\", neg_correct/neg_cnt*100, \"%\")"
      ],
      "metadata": {
        "id": "e5nK-3TVM4Gr",
        "colab": {
          "base_uri": "https://localhost:8080/"
        },
        "outputId": "c0a1ef74-eab7-4812-bc77-6e862cda9a7c"
      },
      "execution_count": null,
      "outputs": [
        {
          "output_type": "stream",
          "name": "stdout",
          "text": [
            "1/1 - 0s - 357ms/epoch - 357ms/step\n",
            "1/1 - 0s - 84ms/epoch - 84ms/step\n",
            "1/1 - 0s - 75ms/epoch - 75ms/step\n",
            "1/1 - 0s - 99ms/epoch - 99ms/step\n",
            "1/1 - 0s - 76ms/epoch - 76ms/step\n",
            "1/1 - 0s - 80ms/epoch - 80ms/step\n",
            "1/1 - 0s - 82ms/epoch - 82ms/step\n",
            "1/1 - 0s - 78ms/epoch - 78ms/step\n",
            "1/1 - 0s - 78ms/epoch - 78ms/step\n",
            "1/1 - 0s - 79ms/epoch - 79ms/step\n",
            "1/1 - 0s - 79ms/epoch - 79ms/step\n",
            "1/1 - 0s - 92ms/epoch - 92ms/step\n",
            "1/1 - 0s - 86ms/epoch - 86ms/step\n",
            "1/1 - 0s - 79ms/epoch - 79ms/step\n",
            "1/1 - 0s - 77ms/epoch - 77ms/step\n",
            "1/1 - 0s - 87ms/epoch - 87ms/step\n",
            "1/1 - 0s - 78ms/epoch - 78ms/step\n",
            "1/1 - 0s - 81ms/epoch - 81ms/step\n",
            "1/1 - 0s - 81ms/epoch - 81ms/step\n",
            "1/1 - 0s - 75ms/epoch - 75ms/step\n",
            "1/1 - 0s - 91ms/epoch - 91ms/step\n",
            "1/1 - 0s - 78ms/epoch - 78ms/step\n",
            "1/1 - 0s - 78ms/epoch - 78ms/step\n",
            "1/1 - 0s - 83ms/epoch - 83ms/step\n",
            "1/1 - 0s - 82ms/epoch - 82ms/step\n",
            "1/1 - 0s - 85ms/epoch - 85ms/step\n",
            "1/1 - 0s - 81ms/epoch - 81ms/step\n",
            "1/1 - 0s - 76ms/epoch - 76ms/step\n",
            "1/1 - 0s - 88ms/epoch - 88ms/step\n",
            "1/1 - 0s - 82ms/epoch - 82ms/step\n",
            "1/1 - 0s - 76ms/epoch - 76ms/step\n",
            "1/1 - 0s - 81ms/epoch - 81ms/step\n",
            "1/1 - 0s - 75ms/epoch - 75ms/step\n",
            "1/1 - 0s - 86ms/epoch - 86ms/step\n",
            "1/1 - 0s - 78ms/epoch - 78ms/step\n",
            "1/1 - 0s - 76ms/epoch - 76ms/step\n",
            "1/1 - 0s - 77ms/epoch - 77ms/step\n",
            "1/1 - 0s - 74ms/epoch - 74ms/step\n",
            "1/1 - 0s - 77ms/epoch - 77ms/step\n",
            "1/1 - 0s - 94ms/epoch - 94ms/step\n",
            "1/1 - 0s - 76ms/epoch - 76ms/step\n",
            "1/1 - 0s - 77ms/epoch - 77ms/step\n",
            "1/1 - 0s - 79ms/epoch - 79ms/step\n",
            "1/1 - 0s - 79ms/epoch - 79ms/step\n",
            "1/1 - 0s - 81ms/epoch - 81ms/step\n",
            "1/1 - 0s - 114ms/epoch - 114ms/step\n",
            "1/1 - 0s - 76ms/epoch - 76ms/step\n",
            "1/1 - 0s - 80ms/epoch - 80ms/step\n",
            "1/1 - 0s - 79ms/epoch - 79ms/step\n",
            "1/1 - 0s - 82ms/epoch - 82ms/step\n",
            "1/1 - 0s - 85ms/epoch - 85ms/step\n",
            "1/1 - 0s - 78ms/epoch - 78ms/step\n",
            "1/1 - 0s - 77ms/epoch - 77ms/step\n",
            "1/1 - 0s - 93ms/epoch - 93ms/step\n",
            "1/1 - 0s - 76ms/epoch - 76ms/step\n",
            "1/1 - 0s - 80ms/epoch - 80ms/step\n",
            "1/1 - 0s - 82ms/epoch - 82ms/step\n",
            "1/1 - 0s - 77ms/epoch - 77ms/step\n",
            "1/1 - 0s - 87ms/epoch - 87ms/step\n",
            "1/1 - 0s - 79ms/epoch - 79ms/step\n",
            "1/1 - 0s - 84ms/epoch - 84ms/step\n",
            "1/1 - 0s - 89ms/epoch - 89ms/step\n",
            "1/1 - 0s - 79ms/epoch - 79ms/step\n",
            "1/1 - 0s - 78ms/epoch - 78ms/step\n",
            "1/1 - 0s - 87ms/epoch - 87ms/step\n",
            "1/1 - 0s - 77ms/epoch - 77ms/step\n",
            "1/1 - 0s - 81ms/epoch - 81ms/step\n",
            "1/1 - 0s - 80ms/epoch - 80ms/step\n",
            "1/1 - 0s - 79ms/epoch - 79ms/step\n",
            "1/1 - 0s - 79ms/epoch - 79ms/step\n",
            "1/1 - 0s - 81ms/epoch - 81ms/step\n",
            "1/1 - 0s - 80ms/epoch - 80ms/step\n",
            "1/1 - 0s - 84ms/epoch - 84ms/step\n",
            "1/1 - 0s - 79ms/epoch - 79ms/step\n",
            "1/1 - 0s - 82ms/epoch - 82ms/step\n",
            "1/1 - 0s - 81ms/epoch - 81ms/step\n",
            "1/1 - 0s - 84ms/epoch - 84ms/step\n",
            "1/1 - 0s - 82ms/epoch - 82ms/step\n",
            "1/1 - 0s - 88ms/epoch - 88ms/step\n",
            "1/1 - 0s - 79ms/epoch - 79ms/step\n",
            "1/1 - 0s - 83ms/epoch - 83ms/step\n",
            "1/1 - 0s - 86ms/epoch - 86ms/step\n",
            "1/1 - 0s - 88ms/epoch - 88ms/step\n",
            "1/1 - 0s - 79ms/epoch - 79ms/step\n",
            "1/1 - 0s - 83ms/epoch - 83ms/step\n",
            "1/1 - 0s - 80ms/epoch - 80ms/step\n",
            "1/1 - 0s - 100ms/epoch - 100ms/step\n",
            "1/1 - 0s - 85ms/epoch - 85ms/step\n",
            "1/1 - 0s - 89ms/epoch - 89ms/step\n",
            "1/1 - 0s - 82ms/epoch - 82ms/step\n",
            "1/1 - 0s - 81ms/epoch - 81ms/step\n",
            "1/1 - 0s - 81ms/epoch - 81ms/step\n",
            "1/1 - 0s - 79ms/epoch - 79ms/step\n",
            "1/1 - 0s - 82ms/epoch - 82ms/step\n",
            "1/1 - 0s - 80ms/epoch - 80ms/step\n",
            "1/1 - 0s - 82ms/epoch - 82ms/step\n",
            "1/1 - 0s - 80ms/epoch - 80ms/step\n",
            "1/1 - 0s - 78ms/epoch - 78ms/step\n",
            "1/1 - 0s - 76ms/epoch - 76ms/step\n",
            "1/1 - 0s - 79ms/epoch - 79ms/step\n",
            "1/1 - 0s - 85ms/epoch - 85ms/step\n",
            "1/1 - 0s - 83ms/epoch - 83ms/step\n",
            "1/1 - 0s - 81ms/epoch - 81ms/step\n",
            "1/1 - 0s - 83ms/epoch - 83ms/step\n",
            "1/1 - 0s - 79ms/epoch - 79ms/step\n",
            "1/1 - 0s - 83ms/epoch - 83ms/step\n",
            "1/1 - 0s - 78ms/epoch - 78ms/step\n",
            "1/1 - 0s - 75ms/epoch - 75ms/step\n",
            "1/1 - 0s - 76ms/epoch - 76ms/step\n",
            "1/1 - 0s - 75ms/epoch - 75ms/step\n",
            "1/1 - 0s - 98ms/epoch - 98ms/step\n",
            "1/1 - 0s - 76ms/epoch - 76ms/step\n",
            "1/1 - 0s - 79ms/epoch - 79ms/step\n",
            "1/1 - 0s - 78ms/epoch - 78ms/step\n",
            "1/1 - 0s - 77ms/epoch - 77ms/step\n",
            "1/1 - 0s - 76ms/epoch - 76ms/step\n",
            "1/1 - 0s - 78ms/epoch - 78ms/step\n",
            "1/1 - 0s - 84ms/epoch - 84ms/step\n",
            "1/1 - 0s - 78ms/epoch - 78ms/step\n",
            "1/1 - 0s - 88ms/epoch - 88ms/step\n",
            "1/1 - 0s - 80ms/epoch - 80ms/step\n",
            "1/1 - 0s - 79ms/epoch - 79ms/step\n",
            "1/1 - 0s - 81ms/epoch - 81ms/step\n",
            "1/1 - 0s - 80ms/epoch - 80ms/step\n",
            "1/1 - 0s - 91ms/epoch - 91ms/step\n",
            "1/1 - 0s - 90ms/epoch - 90ms/step\n",
            "1/1 - 0s - 77ms/epoch - 77ms/step\n",
            "1/1 - 0s - 78ms/epoch - 78ms/step\n",
            "1/1 - 0s - 77ms/epoch - 77ms/step\n",
            "1/1 - 0s - 78ms/epoch - 78ms/step\n",
            "1/1 - 0s - 77ms/epoch - 77ms/step\n",
            "1/1 - 0s - 79ms/epoch - 79ms/step\n",
            "1/1 - 0s - 79ms/epoch - 79ms/step\n",
            "1/1 - 0s - 94ms/epoch - 94ms/step\n",
            "1/1 - 0s - 81ms/epoch - 81ms/step\n",
            "1/1 - 0s - 84ms/epoch - 84ms/step\n",
            "1/1 - 0s - 83ms/epoch - 83ms/step\n",
            "1/1 - 0s - 83ms/epoch - 83ms/step\n",
            "1/1 - 0s - 80ms/epoch - 80ms/step\n",
            "1/1 - 0s - 79ms/epoch - 79ms/step\n",
            "1/1 - 0s - 77ms/epoch - 77ms/step\n",
            "1/1 - 0s - 87ms/epoch - 87ms/step\n",
            "1/1 - 0s - 83ms/epoch - 83ms/step\n",
            "1/1 - 0s - 78ms/epoch - 78ms/step\n",
            "1/1 - 0s - 77ms/epoch - 77ms/step\n",
            "1/1 - 0s - 78ms/epoch - 78ms/step\n",
            "1/1 - 0s - 76ms/epoch - 76ms/step\n",
            "1/1 - 0s - 87ms/epoch - 87ms/step\n",
            "1/1 - 0s - 76ms/epoch - 76ms/step\n",
            "1/1 - 0s - 107ms/epoch - 107ms/step\n",
            "1/1 - 0s - 79ms/epoch - 79ms/step\n",
            "1/1 - 0s - 76ms/epoch - 76ms/step\n",
            "1/1 - 0s - 82ms/epoch - 82ms/step\n",
            "1/1 - 0s - 81ms/epoch - 81ms/step\n",
            "1/1 - 0s - 79ms/epoch - 79ms/step\n",
            "1/1 - 0s - 87ms/epoch - 87ms/step\n",
            "1/1 - 0s - 81ms/epoch - 81ms/step\n",
            "1/1 - 0s - 98ms/epoch - 98ms/step\n",
            "1/1 - 0s - 83ms/epoch - 83ms/step\n",
            "1/1 - 0s - 86ms/epoch - 86ms/step\n",
            "1/1 - 0s - 78ms/epoch - 78ms/step\n",
            "1/1 - 0s - 75ms/epoch - 75ms/step\n",
            "1/1 - 0s - 76ms/epoch - 76ms/step\n",
            "1/1 - 0s - 78ms/epoch - 78ms/step\n",
            "1/1 - 0s - 91ms/epoch - 91ms/step\n",
            "1/1 - 0s - 86ms/epoch - 86ms/step\n",
            "1/1 - 0s - 80ms/epoch - 80ms/step\n",
            "1/1 - 0s - 80ms/epoch - 80ms/step\n",
            "1/1 - 0s - 87ms/epoch - 87ms/step\n",
            "1/1 - 0s - 78ms/epoch - 78ms/step\n",
            "1/1 - 0s - 81ms/epoch - 81ms/step\n",
            "1/1 - 0s - 79ms/epoch - 79ms/step\n",
            "1/1 - 0s - 91ms/epoch - 91ms/step\n",
            "1/1 - 0s - 84ms/epoch - 84ms/step\n",
            "1/1 - 0s - 77ms/epoch - 77ms/step\n",
            "1/1 - 0s - 79ms/epoch - 79ms/step\n",
            "1/1 - 0s - 79ms/epoch - 79ms/step\n",
            "1/1 - 0s - 85ms/epoch - 85ms/step\n",
            "1/1 - 0s - 78ms/epoch - 78ms/step\n",
            "1/1 - 0s - 82ms/epoch - 82ms/step\n",
            "1/1 - 0s - 84ms/epoch - 84ms/step\n",
            "1/1 - 0s - 87ms/epoch - 87ms/step\n",
            "1/1 - 0s - 84ms/epoch - 84ms/step\n",
            "1/1 - 0s - 77ms/epoch - 77ms/step\n",
            "1/1 - 0s - 79ms/epoch - 79ms/step\n",
            "1/1 - 0s - 82ms/epoch - 82ms/step\n",
            "1/1 - 0s - 78ms/epoch - 78ms/step\n",
            "1/1 - 0s - 79ms/epoch - 79ms/step\n",
            "1/1 - 0s - 78ms/epoch - 78ms/step\n",
            "1/1 - 0s - 93ms/epoch - 93ms/step\n",
            "1/1 - 0s - 84ms/epoch - 84ms/step\n",
            "1/1 - 0s - 81ms/epoch - 81ms/step\n",
            "1/1 - 0s - 82ms/epoch - 82ms/step\n",
            "1/1 - 0s - 80ms/epoch - 80ms/step\n",
            "1/1 - 0s - 86ms/epoch - 86ms/step\n",
            "1/1 - 0s - 75ms/epoch - 75ms/step\n",
            "1/1 - 0s - 85ms/epoch - 85ms/step\n",
            "1/1 - 0s - 88ms/epoch - 88ms/step\n",
            "1/1 - 0s - 80ms/epoch - 80ms/step\n",
            "1/1 - 0s - 80ms/epoch - 80ms/step\n",
            "1/1 - 0s - 76ms/epoch - 76ms/step\n",
            "1/1 - 0s - 80ms/epoch - 80ms/step\n",
            "1/1 - 0s - 79ms/epoch - 79ms/step\n",
            "1/1 - 0s - 83ms/epoch - 83ms/step\n",
            "1/1 - 0s - 82ms/epoch - 82ms/step\n",
            "1/1 - 0s - 95ms/epoch - 95ms/step\n",
            "1/1 - 0s - 79ms/epoch - 79ms/step\n",
            "1/1 - 0s - 79ms/epoch - 79ms/step\n",
            "1/1 - 0s - 77ms/epoch - 77ms/step\n",
            "1/1 - 0s - 76ms/epoch - 76ms/step\n",
            "1/1 - 0s - 77ms/epoch - 77ms/step\n",
            "1/1 - 0s - 79ms/epoch - 79ms/step\n",
            "1/1 - 0s - 81ms/epoch - 81ms/step\n",
            "1/1 - 0s - 88ms/epoch - 88ms/step\n",
            "1/1 - 0s - 85ms/epoch - 85ms/step\n",
            "1/1 - 0s - 80ms/epoch - 80ms/step\n",
            "1/1 - 0s - 88ms/epoch - 88ms/step\n",
            "1/1 - 0s - 78ms/epoch - 78ms/step\n",
            "1/1 - 0s - 77ms/epoch - 77ms/step\n",
            "1/1 - 0s - 79ms/epoch - 79ms/step\n",
            "1/1 - 0s - 79ms/epoch - 79ms/step\n",
            "1/1 - 0s - 80ms/epoch - 80ms/step\n",
            "1/1 - 0s - 88ms/epoch - 88ms/step\n",
            "1/1 - 0s - 89ms/epoch - 89ms/step\n",
            "1/1 - 0s - 82ms/epoch - 82ms/step\n",
            "1/1 - 0s - 80ms/epoch - 80ms/step\n",
            "1/1 - 0s - 80ms/epoch - 80ms/step\n",
            "1/1 - 0s - 84ms/epoch - 84ms/step\n",
            "1/1 - 0s - 80ms/epoch - 80ms/step\n",
            "1/1 - 0s - 82ms/epoch - 82ms/step\n",
            "1/1 - 0s - 83ms/epoch - 83ms/step\n",
            "1/1 - 0s - 78ms/epoch - 78ms/step\n",
            "1/1 - 0s - 91ms/epoch - 91ms/step\n",
            "1/1 - 0s - 78ms/epoch - 78ms/step\n",
            "1/1 - 0s - 78ms/epoch - 78ms/step\n",
            "1/1 - 0s - 76ms/epoch - 76ms/step\n",
            "1/1 - 0s - 89ms/epoch - 89ms/step\n",
            "1/1 - 0s - 77ms/epoch - 77ms/step\n",
            "1/1 - 0s - 76ms/epoch - 76ms/step\n",
            "1/1 - 0s - 76ms/epoch - 76ms/step\n",
            "1/1 - 0s - 76ms/epoch - 76ms/step\n",
            "1/1 - 0s - 78ms/epoch - 78ms/step\n",
            "1/1 - 0s - 78ms/epoch - 78ms/step\n",
            "1/1 - 0s - 86ms/epoch - 86ms/step\n",
            "1/1 - 0s - 77ms/epoch - 77ms/step\n",
            "1/1 - 0s - 88ms/epoch - 88ms/step\n",
            "1/1 - 0s - 79ms/epoch - 79ms/step\n",
            "1/1 - 0s - 77ms/epoch - 77ms/step\n",
            "1/1 - 0s - 78ms/epoch - 78ms/step\n",
            "1/1 - 0s - 79ms/epoch - 79ms/step\n",
            "1/1 - 0s - 76ms/epoch - 76ms/step\n",
            "1/1 - 0s - 77ms/epoch - 77ms/step\n",
            "1/1 - 0s - 77ms/epoch - 77ms/step\n",
            "1/1 - 0s - 82ms/epoch - 82ms/step\n",
            "1/1 - 0s - 89ms/epoch - 89ms/step\n",
            "1/1 - 0s - 85ms/epoch - 85ms/step\n",
            "1/1 - 0s - 76ms/epoch - 76ms/step\n",
            "1/1 - 0s - 101ms/epoch - 101ms/step\n",
            "1/1 - 0s - 78ms/epoch - 78ms/step\n",
            "1/1 - 0s - 83ms/epoch - 83ms/step\n",
            "1/1 - 0s - 79ms/epoch - 79ms/step\n",
            "1/1 - 0s - 79ms/epoch - 79ms/step\n",
            "1/1 - 0s - 86ms/epoch - 86ms/step\n",
            "1/1 - 0s - 81ms/epoch - 81ms/step\n",
            "1/1 - 0s - 81ms/epoch - 81ms/step\n",
            "1/1 - 0s - 90ms/epoch - 90ms/step\n",
            "1/1 - 0s - 81ms/epoch - 81ms/step\n",
            "1/1 - 0s - 79ms/epoch - 79ms/step\n",
            "1/1 - 0s - 81ms/epoch - 81ms/step\n",
            "1/1 - 0s - 86ms/epoch - 86ms/step\n",
            "1/1 - 0s - 78ms/epoch - 78ms/step\n",
            "1/1 - 0s - 95ms/epoch - 95ms/step\n",
            "1/1 - 0s - 80ms/epoch - 80ms/step\n",
            "1/1 - 0s - 84ms/epoch - 84ms/step\n",
            "1/1 - 0s - 80ms/epoch - 80ms/step\n",
            "1/1 - 0s - 78ms/epoch - 78ms/step\n",
            "1/1 - 0s - 78ms/epoch - 78ms/step\n",
            "1/1 - 0s - 86ms/epoch - 86ms/step\n",
            "1/1 - 0s - 81ms/epoch - 81ms/step\n",
            "1/1 - 0s - 80ms/epoch - 80ms/step\n",
            "1/1 - 0s - 101ms/epoch - 101ms/step\n",
            "1/1 - 0s - 80ms/epoch - 80ms/step\n",
            "1/1 - 0s - 83ms/epoch - 83ms/step\n",
            "1/1 - 0s - 84ms/epoch - 84ms/step\n",
            "1/1 - 0s - 80ms/epoch - 80ms/step\n",
            "1/1 - 0s - 77ms/epoch - 77ms/step\n",
            "1/1 - 0s - 76ms/epoch - 76ms/step\n",
            "1/1 - 0s - 81ms/epoch - 81ms/step\n",
            "1/1 - 0s - 81ms/epoch - 81ms/step\n",
            "1/1 - 0s - 90ms/epoch - 90ms/step\n",
            "1/1 - 0s - 86ms/epoch - 86ms/step\n",
            "1/1 - 0s - 76ms/epoch - 76ms/step\n",
            "1/1 - 0s - 79ms/epoch - 79ms/step\n",
            "1/1 - 0s - 77ms/epoch - 77ms/step\n",
            "1/1 - 0s - 78ms/epoch - 78ms/step\n",
            "1/1 - 0s - 77ms/epoch - 77ms/step\n",
            "1/1 - 0s - 76ms/epoch - 76ms/step\n",
            "1/1 - 0s - 78ms/epoch - 78ms/step\n",
            "1/1 - 0s - 76ms/epoch - 76ms/step\n",
            "1/1 - 0s - 81ms/epoch - 81ms/step\n",
            "1/1 - 0s - 77ms/epoch - 77ms/step\n",
            "1/1 - 0s - 81ms/epoch - 81ms/step\n",
            "1/1 - 0s - 81ms/epoch - 81ms/step\n",
            "1/1 - 0s - 85ms/epoch - 85ms/step\n",
            "1/1 - 0s - 76ms/epoch - 76ms/step\n",
            "1/1 - 0s - 91ms/epoch - 91ms/step\n",
            "1/1 - 0s - 79ms/epoch - 79ms/step\n",
            "1/1 - 0s - 80ms/epoch - 80ms/step\n",
            "1/1 - 0s - 80ms/epoch - 80ms/step\n",
            "1/1 - 0s - 80ms/epoch - 80ms/step\n",
            "1/1 - 0s - 80ms/epoch - 80ms/step\n",
            "1/1 - 0s - 79ms/epoch - 79ms/step\n",
            "1/1 - 0s - 81ms/epoch - 81ms/step\n",
            "1/1 - 0s - 80ms/epoch - 80ms/step\n",
            "1/1 - 0s - 79ms/epoch - 79ms/step\n",
            "1/1 - 0s - 81ms/epoch - 81ms/step\n",
            "1/1 - 0s - 80ms/epoch - 80ms/step\n",
            "1/1 - 0s - 80ms/epoch - 80ms/step\n",
            "1/1 - 0s - 82ms/epoch - 82ms/step\n",
            "1/1 - 0s - 80ms/epoch - 80ms/step\n",
            "1/1 - 0s - 104ms/epoch - 104ms/step\n",
            "1/1 - 0s - 77ms/epoch - 77ms/step\n",
            "1/1 - 0s - 85ms/epoch - 85ms/step\n",
            "1/1 - 0s - 79ms/epoch - 79ms/step\n",
            "1/1 - 0s - 85ms/epoch - 85ms/step\n",
            "1/1 - 0s - 79ms/epoch - 79ms/step\n",
            "1/1 - 0s - 84ms/epoch - 84ms/step\n",
            "1/1 - 0s - 81ms/epoch - 81ms/step\n",
            "1/1 - 0s - 83ms/epoch - 83ms/step\n",
            "1/1 - 0s - 76ms/epoch - 76ms/step\n",
            "1/1 - 0s - 78ms/epoch - 78ms/step\n",
            "1/1 - 0s - 79ms/epoch - 79ms/step\n",
            "1/1 - 0s - 75ms/epoch - 75ms/step\n",
            "1/1 - 0s - 78ms/epoch - 78ms/step\n",
            "1/1 - 0s - 79ms/epoch - 79ms/step\n",
            "1/1 - 0s - 83ms/epoch - 83ms/step\n",
            "1/1 - 0s - 78ms/epoch - 78ms/step\n",
            "1/1 - 0s - 77ms/epoch - 77ms/step\n",
            "1/1 - 0s - 81ms/epoch - 81ms/step\n",
            "1/1 - 0s - 75ms/epoch - 75ms/step\n",
            "1/1 - 0s - 86ms/epoch - 86ms/step\n",
            "1/1 - 0s - 79ms/epoch - 79ms/step\n",
            "1/1 - 0s - 80ms/epoch - 80ms/step\n",
            "1/1 - 0s - 93ms/epoch - 93ms/step\n",
            "1/1 - 0s - 75ms/epoch - 75ms/step\n",
            "1/1 - 0s - 79ms/epoch - 79ms/step\n",
            "1/1 - 0s - 78ms/epoch - 78ms/step\n",
            "1/1 - 0s - 80ms/epoch - 80ms/step\n",
            "1/1 - 0s - 79ms/epoch - 79ms/step\n",
            "1/1 - 0s - 82ms/epoch - 82ms/step\n",
            "1/1 - 0s - 84ms/epoch - 84ms/step\n",
            "1/1 - 0s - 79ms/epoch - 79ms/step\n",
            "1/1 - 0s - 76ms/epoch - 76ms/step\n",
            "1/1 - 0s - 77ms/epoch - 77ms/step\n",
            "1/1 - 0s - 77ms/epoch - 77ms/step\n",
            "1/1 - 0s - 79ms/epoch - 79ms/step\n",
            "1/1 - 0s - 76ms/epoch - 76ms/step\n",
            "1/1 - 0s - 80ms/epoch - 80ms/step\n",
            "1/1 - 0s - 80ms/epoch - 80ms/step\n",
            "1/1 - 0s - 80ms/epoch - 80ms/step\n",
            "1/1 - 0s - 86ms/epoch - 86ms/step\n",
            "1/1 - 0s - 83ms/epoch - 83ms/step\n",
            "1/1 - 0s - 79ms/epoch - 79ms/step\n",
            "1/1 - 0s - 76ms/epoch - 76ms/step\n",
            "1/1 - 0s - 81ms/epoch - 81ms/step\n",
            "1/1 - 0s - 81ms/epoch - 81ms/step\n",
            "1/1 - 0s - 79ms/epoch - 79ms/step\n",
            "1/1 - 0s - 84ms/epoch - 84ms/step\n",
            "1/1 - 0s - 80ms/epoch - 80ms/step\n",
            "1/1 - 0s - 94ms/epoch - 94ms/step\n",
            "1/1 - 0s - 79ms/epoch - 79ms/step\n",
            "1/1 - 0s - 79ms/epoch - 79ms/step\n",
            "1/1 - 0s - 79ms/epoch - 79ms/step\n",
            "1/1 - 0s - 80ms/epoch - 80ms/step\n",
            "1/1 - 0s - 80ms/epoch - 80ms/step\n",
            "1/1 - 0s - 79ms/epoch - 79ms/step\n",
            "1/1 - 0s - 78ms/epoch - 78ms/step\n",
            "1/1 - 0s - 90ms/epoch - 90ms/step\n",
            "1/1 - 0s - 80ms/epoch - 80ms/step\n",
            "1/1 - 0s - 84ms/epoch - 84ms/step\n",
            "1/1 - 0s - 80ms/epoch - 80ms/step\n",
            "1/1 - 0s - 80ms/epoch - 80ms/step\n",
            "1/1 - 0s - 80ms/epoch - 80ms/step\n",
            "1/1 - 0s - 78ms/epoch - 78ms/step\n",
            "1/1 - 0s - 84ms/epoch - 84ms/step\n",
            "1/1 - 0s - 94ms/epoch - 94ms/step\n",
            "1/1 - 0s - 82ms/epoch - 82ms/step\n",
            "1/1 - 0s - 85ms/epoch - 85ms/step\n",
            "1/1 - 0s - 76ms/epoch - 76ms/step\n",
            "1/1 - 0s - 84ms/epoch - 84ms/step\n",
            "1/1 - 0s - 87ms/epoch - 87ms/step\n",
            "1/1 - 0s - 81ms/epoch - 81ms/step\n",
            "1/1 - 0s - 79ms/epoch - 79ms/step\n",
            "1/1 - 0s - 78ms/epoch - 78ms/step\n",
            "1/1 - 0s - 79ms/epoch - 79ms/step\n",
            "1/1 - 0s - 83ms/epoch - 83ms/step\n",
            "1/1 - 0s - 87ms/epoch - 87ms/step\n",
            "1/1 - 0s - 83ms/epoch - 83ms/step\n",
            "1/1 - 0s - 82ms/epoch - 82ms/step\n",
            "1/1 - 0s - 82ms/epoch - 82ms/step\n",
            "1/1 - 0s - 79ms/epoch - 79ms/step\n",
            "1/1 - 0s - 79ms/epoch - 79ms/step\n",
            "1/1 - 0s - 82ms/epoch - 82ms/step\n",
            "1/1 - 0s - 86ms/epoch - 86ms/step\n",
            "1/1 - 0s - 76ms/epoch - 76ms/step\n",
            "1/1 - 0s - 89ms/epoch - 89ms/step\n",
            "1/1 - 0s - 82ms/epoch - 82ms/step\n",
            "1/1 - 0s - 80ms/epoch - 80ms/step\n",
            "1/1 - 0s - 82ms/epoch - 82ms/step\n",
            "1/1 - 0s - 81ms/epoch - 81ms/step\n",
            "1/1 - 0s - 88ms/epoch - 88ms/step\n",
            "1/1 - 0s - 79ms/epoch - 79ms/step\n",
            "1/1 - 0s - 79ms/epoch - 79ms/step\n",
            "1/1 - 0s - 77ms/epoch - 77ms/step\n",
            "1/1 - 0s - 86ms/epoch - 86ms/step\n",
            "1/1 - 0s - 84ms/epoch - 84ms/step\n",
            "1/1 - 0s - 79ms/epoch - 79ms/step\n",
            "1/1 - 0s - 80ms/epoch - 80ms/step\n",
            "1/1 - 0s - 86ms/epoch - 86ms/step\n",
            "1/1 - 0s - 76ms/epoch - 76ms/step\n",
            "1/1 - 0s - 81ms/epoch - 81ms/step\n",
            "1/1 - 0s - 80ms/epoch - 80ms/step\n",
            "1/1 - 0s - 78ms/epoch - 78ms/step\n",
            "1/1 - 0s - 83ms/epoch - 83ms/step\n",
            "1/1 - 0s - 78ms/epoch - 78ms/step\n",
            "1/1 - 0s - 85ms/epoch - 85ms/step\n",
            "1/1 - 0s - 88ms/epoch - 88ms/step\n",
            "1/1 - 0s - 84ms/epoch - 84ms/step\n",
            "1/1 - 0s - 76ms/epoch - 76ms/step\n",
            "1/1 - 0s - 78ms/epoch - 78ms/step\n",
            "1/1 - 0s - 91ms/epoch - 91ms/step\n",
            "1/1 - 0s - 77ms/epoch - 77ms/step\n",
            "1/1 - 0s - 85ms/epoch - 85ms/step\n",
            "1/1 - 0s - 76ms/epoch - 76ms/step\n",
            "1/1 - 0s - 75ms/epoch - 75ms/step\n",
            "1/1 - 0s - 86ms/epoch - 86ms/step\n",
            "1/1 - 0s - 77ms/epoch - 77ms/step\n",
            "1/1 - 0s - 82ms/epoch - 82ms/step\n",
            "1/1 - 0s - 78ms/epoch - 78ms/step\n",
            "1/1 - 0s - 78ms/epoch - 78ms/step\n",
            "1/1 - 0s - 83ms/epoch - 83ms/step\n",
            "1/1 - 0s - 82ms/epoch - 82ms/step\n",
            "1/1 - 0s - 77ms/epoch - 77ms/step\n",
            "1/1 - 0s - 77ms/epoch - 77ms/step\n",
            "1/1 - 0s - 88ms/epoch - 88ms/step\n",
            "1/1 - 0s - 78ms/epoch - 78ms/step\n",
            "1/1 - 0s - 83ms/epoch - 83ms/step\n",
            "1/1 - 0s - 81ms/epoch - 81ms/step\n",
            "1/1 - 0s - 81ms/epoch - 81ms/step\n",
            "1/1 - 0s - 76ms/epoch - 76ms/step\n",
            "1/1 - 0s - 79ms/epoch - 79ms/step\n",
            "1/1 - 0s - 78ms/epoch - 78ms/step\n",
            "1/1 - 0s - 85ms/epoch - 85ms/step\n",
            "1/1 - 0s - 75ms/epoch - 75ms/step\n",
            "1/1 - 0s - 82ms/epoch - 82ms/step\n",
            "1/1 - 0s - 103ms/epoch - 103ms/step\n",
            "1/1 - 0s - 79ms/epoch - 79ms/step\n",
            "1/1 - 0s - 91ms/epoch - 91ms/step\n",
            "1/1 - 0s - 93ms/epoch - 93ms/step\n",
            "1/1 - 0s - 80ms/epoch - 80ms/step\n",
            "1/1 - 0s - 76ms/epoch - 76ms/step\n",
            "1/1 - 0s - 80ms/epoch - 80ms/step\n",
            "1/1 - 0s - 77ms/epoch - 77ms/step\n",
            "1/1 - 0s - 77ms/epoch - 77ms/step\n",
            "1/1 - 0s - 78ms/epoch - 78ms/step\n",
            "1/1 - 0s - 74ms/epoch - 74ms/step\n",
            "1/1 - 0s - 78ms/epoch - 78ms/step\n",
            "1/1 - 0s - 77ms/epoch - 77ms/step\n",
            "1/1 - 0s - 74ms/epoch - 74ms/step\n",
            "1/1 - 0s - 86ms/epoch - 86ms/step\n",
            "1/1 - 0s - 77ms/epoch - 77ms/step\n",
            "1/1 - 0s - 81ms/epoch - 81ms/step\n",
            "1/1 - 0s - 79ms/epoch - 79ms/step\n",
            "1/1 - 0s - 77ms/epoch - 77ms/step\n",
            "1/1 - 0s - 77ms/epoch - 77ms/step\n",
            "1/1 - 0s - 81ms/epoch - 81ms/step\n",
            "1/1 - 0s - 88ms/epoch - 88ms/step\n",
            "1/1 - 0s - 78ms/epoch - 78ms/step\n",
            "1/1 - 0s - 78ms/epoch - 78ms/step\n",
            "1/1 - 0s - 84ms/epoch - 84ms/step\n",
            "1/1 - 0s - 85ms/epoch - 85ms/step\n",
            "1/1 - 0s - 94ms/epoch - 94ms/step\n",
            "1/1 - 0s - 83ms/epoch - 83ms/step\n",
            "1/1 - 0s - 79ms/epoch - 79ms/step\n",
            "1/1 - 0s - 78ms/epoch - 78ms/step\n",
            "1/1 - 0s - 83ms/epoch - 83ms/step\n",
            "1/1 - 0s - 84ms/epoch - 84ms/step\n",
            "1/1 - 0s - 78ms/epoch - 78ms/step\n",
            "1/1 - 0s - 76ms/epoch - 76ms/step\n",
            "1/1 - 0s - 84ms/epoch - 84ms/step\n",
            "1/1 - 0s - 89ms/epoch - 89ms/step\n",
            "1/1 - 0s - 82ms/epoch - 82ms/step\n",
            "1/1 - 0s - 78ms/epoch - 78ms/step\n",
            "1/1 - 0s - 77ms/epoch - 77ms/step\n",
            "1/1 - 0s - 78ms/epoch - 78ms/step\n",
            "1/1 - 0s - 81ms/epoch - 81ms/step\n",
            "1/1 - 0s - 85ms/epoch - 85ms/step\n",
            "1/1 - 0s - 81ms/epoch - 81ms/step\n",
            "1/1 - 0s - 90ms/epoch - 90ms/step\n",
            "1/1 - 0s - 78ms/epoch - 78ms/step\n",
            "1/1 - 0s - 81ms/epoch - 81ms/step\n",
            "1/1 - 0s - 84ms/epoch - 84ms/step\n",
            "1/1 - 0s - 79ms/epoch - 79ms/step\n",
            "1/1 - 0s - 79ms/epoch - 79ms/step\n",
            "1/1 - 0s - 99ms/epoch - 99ms/step\n",
            "1/1 - 0s - 77ms/epoch - 77ms/step\n",
            "1/1 - 0s - 80ms/epoch - 80ms/step\n",
            "1/1 - 0s - 78ms/epoch - 78ms/step\n",
            "1/1 - 0s - 79ms/epoch - 79ms/step\n",
            "1/1 - 0s - 80ms/epoch - 80ms/step\n",
            "1/1 - 0s - 78ms/epoch - 78ms/step\n",
            "1/1 - 0s - 90ms/epoch - 90ms/step\n",
            "1/1 - 0s - 85ms/epoch - 85ms/step\n",
            "1/1 - 0s - 79ms/epoch - 79ms/step\n",
            "1/1 - 0s - 83ms/epoch - 83ms/step\n",
            "1/1 - 0s - 80ms/epoch - 80ms/step\n",
            "1/1 - 0s - 80ms/epoch - 80ms/step\n",
            "1/1 - 0s - 81ms/epoch - 81ms/step\n",
            "1/1 - 0s - 77ms/epoch - 77ms/step\n",
            "1/1 - 0s - 86ms/epoch - 86ms/step\n",
            "1/1 - 0s - 79ms/epoch - 79ms/step\n",
            "1/1 - 0s - 80ms/epoch - 80ms/step\n",
            "1/1 - 0s - 82ms/epoch - 82ms/step\n",
            "1/1 - 0s - 78ms/epoch - 78ms/step\n",
            "1/1 - 0s - 78ms/epoch - 78ms/step\n",
            "1/1 - 0s - 77ms/epoch - 77ms/step\n",
            "1/1 - 0s - 81ms/epoch - 81ms/step\n",
            "1/1 - 0s - 77ms/epoch - 77ms/step\n",
            "1/1 - 0s - 75ms/epoch - 75ms/step\n",
            "1/1 - 0s - 89ms/epoch - 89ms/step\n",
            "1/1 - 0s - 84ms/epoch - 84ms/step\n",
            "1/1 - 0s - 106ms/epoch - 106ms/step\n",
            "1/1 - 0s - 80ms/epoch - 80ms/step\n",
            "1/1 - 0s - 80ms/epoch - 80ms/step\n",
            "1/1 - 0s - 79ms/epoch - 79ms/step\n",
            "1/1 - 0s - 83ms/epoch - 83ms/step\n",
            "1/1 - 0s - 82ms/epoch - 82ms/step\n",
            "1/1 - 0s - 87ms/epoch - 87ms/step\n",
            "1/1 - 0s - 83ms/epoch - 83ms/step\n",
            "1/1 - 0s - 78ms/epoch - 78ms/step\n",
            "1/1 - 0s - 82ms/epoch - 82ms/step\n",
            "1/1 - 0s - 78ms/epoch - 78ms/step\n",
            "1/1 - 0s - 79ms/epoch - 79ms/step\n",
            "1/1 - 0s - 79ms/epoch - 79ms/step\n",
            "1/1 - 0s - 86ms/epoch - 86ms/step\n",
            "1/1 - 0s - 81ms/epoch - 81ms/step\n",
            "1/1 - 0s - 79ms/epoch - 79ms/step\n",
            "1/1 - 0s - 82ms/epoch - 82ms/step\n",
            "1/1 - 0s - 79ms/epoch - 79ms/step\n",
            "1/1 - 0s - 82ms/epoch - 82ms/step\n",
            "1/1 - 0s - 77ms/epoch - 77ms/step\n",
            "1/1 - 0s - 77ms/epoch - 77ms/step\n",
            "1/1 - 0s - 80ms/epoch - 80ms/step\n",
            "1/1 - 0s - 87ms/epoch - 87ms/step\n",
            "1/1 - 0s - 80ms/epoch - 80ms/step\n",
            "1/1 - 0s - 82ms/epoch - 82ms/step\n",
            "1/1 - 0s - 81ms/epoch - 81ms/step\n",
            "1/1 - 0s - 81ms/epoch - 81ms/step\n",
            "1/1 - 0s - 79ms/epoch - 79ms/step\n",
            "1/1 - 0s - 85ms/epoch - 85ms/step\n",
            "1/1 - 0s - 83ms/epoch - 83ms/step\n",
            "1/1 - 0s - 80ms/epoch - 80ms/step\n",
            "1/1 - 0s - 77ms/epoch - 77ms/step\n",
            "1/1 - 0s - 87ms/epoch - 87ms/step\n",
            "1/1 - 0s - 80ms/epoch - 80ms/step\n",
            "1/1 - 0s - 81ms/epoch - 81ms/step\n",
            "1/1 - 0s - 85ms/epoch - 85ms/step\n",
            "1/1 - 0s - 81ms/epoch - 81ms/step\n",
            "1/1 - 0s - 93ms/epoch - 93ms/step\n",
            "1/1 - 0s - 84ms/epoch - 84ms/step\n",
            "1/1 - 0s - 80ms/epoch - 80ms/step\n",
            "1/1 - 0s - 81ms/epoch - 81ms/step\n",
            "1/1 - 0s - 77ms/epoch - 77ms/step\n",
            "1/1 - 0s - 82ms/epoch - 82ms/step\n",
            "1/1 - 0s - 78ms/epoch - 78ms/step\n",
            "1/1 - 0s - 83ms/epoch - 83ms/step\n",
            "1/1 - 0s - 85ms/epoch - 85ms/step\n",
            "1/1 - 0s - 98ms/epoch - 98ms/step\n",
            "1/1 - 0s - 80ms/epoch - 80ms/step\n",
            "1/1 - 0s - 83ms/epoch - 83ms/step\n",
            "1/1 - 0s - 85ms/epoch - 85ms/step\n",
            "1/1 - 0s - 78ms/epoch - 78ms/step\n",
            "1/1 - 0s - 84ms/epoch - 84ms/step\n",
            "1/1 - 0s - 80ms/epoch - 80ms/step\n",
            "1/1 - 0s - 80ms/epoch - 80ms/step\n",
            "1/1 - 0s - 86ms/epoch - 86ms/step\n",
            "1/1 - 0s - 80ms/epoch - 80ms/step\n",
            "1/1 - 0s - 80ms/epoch - 80ms/step\n",
            "1/1 - 0s - 81ms/epoch - 81ms/step\n",
            "1/1 - 0s - 78ms/epoch - 78ms/step\n",
            "1/1 - 0s - 88ms/epoch - 88ms/step\n",
            "1/1 - 0s - 77ms/epoch - 77ms/step\n",
            "1/1 - 0s - 80ms/epoch - 80ms/step\n",
            "1/1 - 0s - 76ms/epoch - 76ms/step\n",
            "1/1 - 0s - 92ms/epoch - 92ms/step\n",
            "1/1 - 0s - 78ms/epoch - 78ms/step\n",
            "1/1 - 0s - 83ms/epoch - 83ms/step\n",
            "1/1 - 0s - 77ms/epoch - 77ms/step\n",
            "1/1 - 0s - 80ms/epoch - 80ms/step\n",
            "1/1 - 0s - 97ms/epoch - 97ms/step\n",
            "1/1 - 0s - 100ms/epoch - 100ms/step\n",
            "1/1 - 0s - 83ms/epoch - 83ms/step\n",
            "1/1 - 0s - 94ms/epoch - 94ms/step\n",
            "1/1 - 0s - 77ms/epoch - 77ms/step\n",
            "1/1 - 0s - 79ms/epoch - 79ms/step\n",
            "1/1 - 0s - 79ms/epoch - 79ms/step\n",
            "1/1 - 0s - 88ms/epoch - 88ms/step\n",
            "1/1 - 0s - 93ms/epoch - 93ms/step\n",
            "1/1 - 0s - 79ms/epoch - 79ms/step\n",
            "1/1 - 0s - 93ms/epoch - 93ms/step\n",
            "1/1 - 0s - 84ms/epoch - 84ms/step\n",
            "1/1 - 0s - 79ms/epoch - 79ms/step\n",
            "1/1 - 0s - 87ms/epoch - 87ms/step\n",
            "1/1 - 0s - 81ms/epoch - 81ms/step\n",
            "1/1 - 0s - 77ms/epoch - 77ms/step\n",
            "1/1 - 0s - 79ms/epoch - 79ms/step\n",
            "1/1 - 0s - 82ms/epoch - 82ms/step\n",
            "1/1 - 0s - 88ms/epoch - 88ms/step\n",
            "1/1 - 0s - 80ms/epoch - 80ms/step\n",
            "1/1 - 0s - 78ms/epoch - 78ms/step\n",
            "1/1 - 0s - 78ms/epoch - 78ms/step\n",
            "1/1 - 0s - 80ms/epoch - 80ms/step\n",
            "1/1 - 0s - 79ms/epoch - 79ms/step\n",
            "1/1 - 0s - 88ms/epoch - 88ms/step\n",
            "1/1 - 0s - 79ms/epoch - 79ms/step\n",
            "1/1 - 0s - 78ms/epoch - 78ms/step\n",
            "1/1 - 0s - 79ms/epoch - 79ms/step\n",
            "1/1 - 0s - 78ms/epoch - 78ms/step\n",
            "1/1 - 0s - 79ms/epoch - 79ms/step\n",
            "1/1 - 0s - 88ms/epoch - 88ms/step\n",
            "1/1 - 0s - 78ms/epoch - 78ms/step\n",
            "1/1 - 0s - 87ms/epoch - 87ms/step\n",
            "1/1 - 0s - 84ms/epoch - 84ms/step\n",
            "1/1 - 0s - 83ms/epoch - 83ms/step\n",
            "1/1 - 0s - 79ms/epoch - 79ms/step\n",
            "1/1 - 0s - 77ms/epoch - 77ms/step\n",
            "1/1 - 0s - 76ms/epoch - 76ms/step\n",
            "1/1 - 0s - 74ms/epoch - 74ms/step\n",
            "1/1 - 0s - 76ms/epoch - 76ms/step\n",
            "1/1 - 0s - 85ms/epoch - 85ms/step\n",
            "1/1 - 0s - 79ms/epoch - 79ms/step\n",
            "1/1 - 0s - 78ms/epoch - 78ms/step\n",
            "1/1 - 0s - 77ms/epoch - 77ms/step\n",
            "1/1 - 0s - 76ms/epoch - 76ms/step\n",
            "1/1 - 0s - 79ms/epoch - 79ms/step\n",
            "1/1 - 0s - 76ms/epoch - 76ms/step\n",
            "1/1 - 0s - 75ms/epoch - 75ms/step\n",
            "1/1 - 0s - 88ms/epoch - 88ms/step\n",
            "1/1 - 0s - 77ms/epoch - 77ms/step\n",
            "1/1 - 0s - 87ms/epoch - 87ms/step\n",
            "1/1 - 0s - 76ms/epoch - 76ms/step\n",
            "1/1 - 0s - 75ms/epoch - 75ms/step\n",
            "1/1 - 0s - 77ms/epoch - 77ms/step\n",
            "1/1 - 0s - 78ms/epoch - 78ms/step\n",
            "1/1 - 0s - 77ms/epoch - 77ms/step\n",
            "1/1 - 0s - 79ms/epoch - 79ms/step\n",
            "1/1 - 0s - 90ms/epoch - 90ms/step\n",
            "1/1 - 0s - 76ms/epoch - 76ms/step\n",
            "1/1 - 0s - 90ms/epoch - 90ms/step\n",
            "1/1 - 0s - 75ms/epoch - 75ms/step\n",
            "1/1 - 0s - 78ms/epoch - 78ms/step\n",
            "1/1 - 0s - 77ms/epoch - 77ms/step\n",
            "1/1 - 0s - 80ms/epoch - 80ms/step\n",
            "1/1 - 0s - 76ms/epoch - 76ms/step\n",
            "1/1 - 0s - 87ms/epoch - 87ms/step\n",
            "1/1 - 0s - 79ms/epoch - 79ms/step\n",
            "1/1 - 0s - 89ms/epoch - 89ms/step\n",
            "1/1 - 0s - 92ms/epoch - 92ms/step\n",
            "1/1 - 0s - 81ms/epoch - 81ms/step\n",
            "1/1 - 0s - 77ms/epoch - 77ms/step\n",
            "1/1 - 0s - 79ms/epoch - 79ms/step\n",
            "1/1 - 0s - 80ms/epoch - 80ms/step\n",
            "1/1 - 0s - 77ms/epoch - 77ms/step\n",
            "1/1 - 0s - 90ms/epoch - 90ms/step\n",
            "1/1 - 0s - 85ms/epoch - 85ms/step\n",
            "1/1 - 0s - 78ms/epoch - 78ms/step\n",
            "1/1 - 0s - 97ms/epoch - 97ms/step\n",
            "1/1 - 0s - 79ms/epoch - 79ms/step\n",
            "1/1 - 0s - 80ms/epoch - 80ms/step\n",
            "1/1 - 0s - 79ms/epoch - 79ms/step\n",
            "1/1 - 0s - 83ms/epoch - 83ms/step\n",
            "1/1 - 0s - 81ms/epoch - 81ms/step\n",
            "1/1 - 0s - 85ms/epoch - 85ms/step\n",
            "1/1 - 0s - 78ms/epoch - 78ms/step\n",
            "1/1 - 0s - 78ms/epoch - 78ms/step\n",
            "1/1 - 0s - 82ms/epoch - 82ms/step\n",
            "1/1 - 0s - 84ms/epoch - 84ms/step\n",
            "1/1 - 0s - 77ms/epoch - 77ms/step\n",
            "1/1 - 0s - 81ms/epoch - 81ms/step\n",
            "1/1 - 0s - 90ms/epoch - 90ms/step\n",
            "1/1 - 0s - 84ms/epoch - 84ms/step\n",
            "1/1 - 0s - 80ms/epoch - 80ms/step\n",
            "1/1 - 0s - 86ms/epoch - 86ms/step\n",
            "1/1 - 0s - 82ms/epoch - 82ms/step\n",
            "1/1 - 0s - 79ms/epoch - 79ms/step\n",
            "1/1 - 0s - 87ms/epoch - 87ms/step\n",
            "1/1 - 0s - 83ms/epoch - 83ms/step\n",
            "1/1 - 0s - 84ms/epoch - 84ms/step\n",
            "1/1 - 0s - 82ms/epoch - 82ms/step\n"
          ]
        }
      ]
    },
    {
      "cell_type": "code",
      "source": [
        "model.save(\"LSTM_model.h5\")"
      ],
      "metadata": {
        "id": "aX6HqeJrM4JG"
      },
      "execution_count": null,
      "outputs": []
    },
    {
      "cell_type": "code",
      "source": [
        "!pip install h5py\n",
        "import h5py\n",
        "hf = h5py.File('LSTM_model.h5', 'r')\n"
      ],
      "metadata": {
        "colab": {
          "base_uri": "https://localhost:8080/"
        },
        "id": "cOCu1Na-M4Mx",
        "outputId": "7c64fbc4-f7a5-4af0-d831-73219c6dcd39"
      },
      "execution_count": null,
      "outputs": [
        {
          "output_type": "stream",
          "name": "stdout",
          "text": [
            "Requirement already satisfied: h5py in /usr/local/lib/python3.7/dist-packages (3.1.0)\n",
            "Requirement already satisfied: cached-property in /usr/local/lib/python3.7/dist-packages (from h5py) (1.5.2)\n",
            "Requirement already satisfied: numpy>=1.14.5 in /usr/local/lib/python3.7/dist-packages (from h5py) (1.21.6)\n"
          ]
        }
      ]
    },
    {
      "cell_type": "code",
      "source": [
        "hf.keys()"
      ],
      "metadata": {
        "colab": {
          "base_uri": "https://localhost:8080/"
        },
        "id": "6XVKyHXtM4Oy",
        "outputId": "e25f7cbb-ac15-44d4-f42d-c160713b802a"
      },
      "execution_count": null,
      "outputs": [
        {
          "output_type": "execute_result",
          "data": {
            "text/plain": [
              "<KeysViewHDF5 ['model_weights', 'optimizer_weights']>"
            ]
          },
          "metadata": {},
          "execution_count": 52
        }
      ]
    },
    {
      "cell_type": "code",
      "source": [
        "weights = model.get_weights()\n",
        "np.save('lstm.npy', weights)\n",
        " \n"
      ],
      "metadata": {
        "id": "KBqyXlWJM-8i"
      },
      "execution_count": null,
      "outputs": []
    },
    {
      "cell_type": "code",
      "source": [
        "y_pred = model.predict(X_test)\n",
        "y_pred = (y_pred > 0.5)"
      ],
      "metadata": {
        "id": "I9BPyclkM--2"
      },
      "execution_count": null,
      "outputs": []
    },
    {
      "cell_type": "code",
      "source": [
        "from sklearn.metrics import confusion_matrix\n",
        "cm = confusion_matrix(Y_test.argmax(axis=1), y_pred.argmax(axis=1))\n",
        "cm"
      ],
      "metadata": {
        "colab": {
          "base_uri": "https://localhost:8080/"
        },
        "id": "moP1dvYkM_BR",
        "outputId": "db3b5ebc-aeb9-4752-cc07-86df292b8f5f"
      },
      "execution_count": null,
      "outputs": [
        {
          "output_type": "execute_result",
          "data": {
            "text/plain": [
              "array([[ 26,   5,  10,   0,   0],\n",
              "       [ 66,  95,  46,   0,   3],\n",
              "       [ 68,  10, 248,   0,   2],\n",
              "       [ 11,   1,   1,   1,   0],\n",
              "       [ 50,   4,   7,   0,  45]])"
            ]
          },
          "metadata": {},
          "execution_count": 55
        }
      ]
    },
    {
      "cell_type": "code",
      "source": [
        "confusion_matrix(Y_test.argmax(axis=1), y_pred.argmax(axis=1))"
      ],
      "metadata": {
        "id": "dSkHwQ65M_DS",
        "colab": {
          "base_uri": "https://localhost:8080/"
        },
        "outputId": "9c2a3558-fa07-46a5-d97e-9c135984c802"
      },
      "execution_count": null,
      "outputs": [
        {
          "output_type": "execute_result",
          "data": {
            "text/plain": [
              "array([[ 26,   5,  10,   0,   0],\n",
              "       [ 66,  95,  46,   0,   3],\n",
              "       [ 68,  10, 248,   0,   2],\n",
              "       [ 11,   1,   1,   1,   0],\n",
              "       [ 50,   4,   7,   0,  45]])"
            ]
          },
          "metadata": {},
          "execution_count": 56
        }
      ]
    },
    {
      "cell_type": "code",
      "source": [
        "skf = StratifiedKFold(n_splits=3, random_state = 42, shuffle = True)\n",
        "skf.get_n_splits(X, Y)"
      ],
      "metadata": {
        "id": "ONmYYhj2NJNT",
        "colab": {
          "base_uri": "https://localhost:8080/"
        },
        "outputId": "56d490ad-4921-48f4-b659-5dd2b07812c2"
      },
      "execution_count": null,
      "outputs": [
        {
          "output_type": "execute_result",
          "data": {
            "text/plain": [
              "3"
            ]
          },
          "metadata": {},
          "execution_count": 57
        }
      ]
    },
    {
      "cell_type": "code",
      "source": [
        "df2['sentiment_int'].count()"
      ],
      "metadata": {
        "id": "Xs-3YX-rNMSZ",
        "colab": {
          "base_uri": "https://localhost:8080/"
        },
        "outputId": "6dbec2c9-e5de-4c2a-9ee7-efb9c00356ff"
      },
      "execution_count": null,
      "outputs": [
        {
          "output_type": "execute_result",
          "data": {
            "text/plain": [
              "6987"
            ]
          },
          "metadata": {},
          "execution_count": 58
        }
      ]
    },
    {
      "cell_type": "code",
      "source": [
        "pd.value_counts(df2['sentiment_int'].values.flatten())"
      ],
      "metadata": {
        "id": "ExphixlcNOgF",
        "colab": {
          "base_uri": "https://localhost:8080/"
        },
        "outputId": "43ab6737-47fc-48a7-ff45-db60991fd4b6"
      },
      "execution_count": null,
      "outputs": [
        {
          "output_type": "execute_result",
          "data": {
            "text/plain": [
              "2    3123\n",
              "1    2200\n",
              "4    1033\n",
              "0     480\n",
              "3     151\n",
              "dtype: int64"
            ]
          },
          "metadata": {},
          "execution_count": 59
        }
      ]
    }
  ]
}